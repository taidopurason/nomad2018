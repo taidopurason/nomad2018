{
 "cells": [
  {
   "cell_type": "markdown",
   "metadata": {},
   "source": [
    "# This file contains the preparation of data and many helpful functions"
   ]
  },
  {
   "cell_type": "code",
   "execution_count": 2,
   "metadata": {},
   "outputs": [],
   "source": [
    "# imports\n",
    "import pandas as pd\n",
    "import numpy as np\n",
    "import matplotlib.pyplot as plt\n",
    "import sklearn"
   ]
  },
  {
   "cell_type": "markdown",
   "metadata": {},
   "source": [
    "### The metric for this competition is RMSLE"
   ]
  },
  {
   "cell_type": "code",
   "execution_count": 3,
   "metadata": {},
   "outputs": [],
   "source": [
    "# metric\n",
    "from sklearn.metrics import mean_squared_log_error\n",
    "def rmsle(y_true, y_pred, **kwargs):\n",
    "    return np.sqrt(mean_squared_log_error(y_true, np.clip(y_pred, 0, None)))\n",
    "rmsle_scorer = sklearn.metrics.make_scorer(rmsle, greater_is_better=False)\n",
    "\n",
    "# should not be used. only for specific case (log transformed target)\n",
    "def rmsle_exp(y_true, y_pred, **kwargs):\n",
    "    return np.sqrt(mean_squared_log_error(np.expm1(y_true), np.clip(np.expm1(y_pred), 0, None))) \n",
    "rmsle_scorer_exp = sklearn.metrics.make_scorer(rmsle_exp, greater_is_better=False)"
   ]
  },
  {
   "cell_type": "markdown",
   "metadata": {},
   "source": [
    "### Reading in data"
   ]
  },
  {
   "cell_type": "code",
   "execution_count": 4,
   "metadata": {},
   "outputs": [],
   "source": [
    "# read in data\n",
    "train = pd.read_csv(\"train.csv\", delimiter=\",\")\n",
    "test = pd.read_csv(\"test.csv\", delimiter=\",\")\n",
    "\n",
    "# calculated data\n",
    "X_additional = pd.read_csv(\"additionalAttributes.csv\", delimiter=\",\").drop(\"Unnamed: 0\", axis=1)\n",
    "X_additional_test = pd.read_csv(\"additionalAttributesTest.csv\", delimiter=\",\").drop(\"Unnamed: 0\", axis=1)\n",
    "X = train.drop([\"formation_energy_ev_natom\", \"bandgap_energy_ev\", \"id\"], axis=1)\n",
    "test_X = test.drop([\"id\"], axis=1)\n",
    "\n",
    "y_fe = train.formation_energy_ev_natom\n",
    "y_be = train.bandgap_energy_ev\n",
    "\n",
    "X_full = pd.concat([X, X_additional], axis=1)\n",
    "X_full_test = pd.concat([test_X, X_additional_test], axis=1)"
   ]
  },
  {
   "cell_type": "markdown",
   "metadata": {},
   "source": [
    "### Encoding spacegroup"
   ]
  },
  {
   "cell_type": "markdown",
   "metadata": {},
   "source": [
    "Not used in the end because it gave lower scores"
   ]
  },
  {
   "cell_type": "code",
   "execution_count": 5,
   "metadata": {},
   "outputs": [],
   "source": [
    "# transform encoding\n",
    "def encode_spacegroup(X):\n",
    "    # 1-2 triclinic\n",
    "    # 3-15 monoclinic\n",
    "    # 16-74 orthorhombic\n",
    "    # 75-142 tetragonal\n",
    "    # 143-167 trigonal\n",
    "    # 168-194 hexagonal\n",
    "    # 195-230 cubic\n",
    "    # [ 33 194 227 167 206  12] are the possible spacegroup values\n",
    "    # onehot encode each separately\n",
    "    return pd.get_dummies(X, columns=[\"spacegroup\"])"
   ]
  },
  {
   "cell_type": "markdown",
   "metadata": {},
   "source": [
    "### Helpful functions for evaluation and saving results"
   ]
  },
  {
   "cell_type": "code",
   "execution_count": 6,
   "metadata": {},
   "outputs": [],
   "source": [
    "from sklearn.model_selection import cross_val_score\n",
    "def evaluate_CV(model, X, y, metric=rmsle_scorer, n_folds=5, random_state=None):\n",
    "    return -cross_val_score(model, X, y, cv=n_folds, scoring=metric).mean()"
   ]
  },
  {
   "cell_type": "code",
   "execution_count": 7,
   "metadata": {},
   "outputs": [],
   "source": [
    "# submission file\n",
    "def save_results(y_fe_pred, y_be_pred, name):\n",
    "    results = pd.DataFrame({\"id\": test.id, \"formation_energy_ev_natom\": y_fe_pred, \"bandgap_energy_ev\": y_be_pred})\n",
    "    results.to_csv(name + \".csv\",index=False)"
   ]
  },
  {
   "cell_type": "markdown",
   "metadata": {},
   "source": [
    "### Filling the missing values in the calculated data"
   ]
  },
  {
   "cell_type": "code",
   "execution_count": 8,
   "metadata": {},
   "outputs": [],
   "source": [
    "# filling values\n",
    "fillValues = {'cAlGa':0, \n",
    "              'cAlAl':0,\n",
    "              'cAlIn':0, \n",
    "              'cAlO':0,\n",
    "              'cGaGa':0,\n",
    "              'cGaAl':0, \n",
    "              'cGaIn':0, \n",
    "              'cGaO':0, \n",
    "              'cInIn':0,\n",
    "              'cInAl':0, \n",
    "              'cInGa':0, \n",
    "              'cInO':0,\n",
    "              'distAlAl':100,\n",
    "              'distAlGa':100,\n",
    "              'distAlIn':100,\n",
    "              'distAlO':100,\n",
    "              'distGaGa':100,\n",
    "              'distGaAl':100,\n",
    "              'distGaIn':100,\n",
    "              'distGaO':100,\n",
    "              'distInIn':100,\n",
    "              'distInAl':100,\n",
    "              'distInGa':100,\n",
    "              'distInO':100,\n",
    "              'qAl':0, \n",
    "              'qGa':0, \n",
    "              'qIn':0, \n",
    "              'qO':0}\n",
    "X_full = X_full.fillna(value=fillValues)\n",
    "X_full_test = X_full_test.fillna(value=fillValues)"
   ]
  },
  {
   "cell_type": "markdown",
   "metadata": {},
   "source": [
    "### Engineering new features from spacegroup"
   ]
  },
  {
   "cell_type": "code",
   "execution_count": 9,
   "metadata": {},
   "outputs": [],
   "source": [
    "def set_symmetry(X):\n",
    "    centrosymmetric = []\n",
    "    enantiomorphic = []\n",
    "    groupEnantiomorph = [1]+list(np.arange(3,6,1))+list(np.arange(16,25,1))+list(np.arange(75,81,1))+list(np.arange(89,99,1))+list(np.arange(143,147,1))+list(np.arange(149,156,1))+list(np.arange(168,174,1))+list(np.arange(177,183,1))+list(np.arange(195,200,1))+list(np.arange(207,215,1))\n",
    "    groupCentrosym = [2]+list(np.arange(10,16,1))+list(np.arange(47,75,1))+list(np.arange(83,89,1))+list(np.arange(123,143,1))+list(np.arange(147,149,1))+list(np.arange(162,168,1))+list(np.arange(175,177,1))+list(np.arange(191,195,1))+list(np.arange(200,207,1))+list(np.arange(221,231,1))\n",
    "    for i in range(len(X)):\n",
    "        if(X.spacegroup[i] in groupEnantiomorph):\n",
    "            enantiomorphic+=[1]\n",
    "            centrosymmetric+=[0]\n",
    "        elif(X.spacegroup[i] in groupCentrosym):\n",
    "            enantiomorphic+=[0]\n",
    "            centrosymmetric+=[1]\n",
    "        else:\n",
    "            enantiomorphic+=[0]\n",
    "            centrosymmetric+=[0]\n",
    "    X[\"centroSym\"] = centrosymmetric\n",
    "    X[\"enantioMorph\"] = enantiomorphic\n",
    "    return X"
   ]
  },
  {
   "cell_type": "code",
   "execution_count": 10,
   "metadata": {},
   "outputs": [],
   "source": [
    "X_full = set_symmetry(X_full)\n",
    "X_full_test = set_symmetry(X_full_test)"
   ]
  },
  {
   "cell_type": "markdown",
   "metadata": {},
   "source": [
    "### Log-Transformation on features"
   ]
  },
  {
   "cell_type": "code",
   "execution_count": 11,
   "metadata": {},
   "outputs": [],
   "source": [
    "# apply log transformation to some features\n",
    "for col in [\"cAlGa\", \"cAlIn\", \"cGaAl\", \"cInAl\", \"cInGa\", \"distAlO\", \"distGaAl\", \"distGaIn\", \"distGaO\", \"distInAl\", \"distInGa\", \"distInO\", \"spacegroup\"]:\n",
    "    X_full[col] = np.log1p(X_full[col])\n",
    "    X_full_test[col] = np.log1p(X_full_test[col])"
   ]
  },
  {
   "cell_type": "markdown",
   "metadata": {},
   "source": [
    "### Standardizing features"
   ]
  },
  {
   "cell_type": "code",
   "execution_count": 12,
   "metadata": {},
   "outputs": [],
   "source": [
    "# standardize features\n",
    "from sklearn.preprocessing import StandardScaler\n",
    "scaler = StandardScaler()\n",
    "scaler.fit(X_full)\n",
    "X_full = pd.DataFrame(scaler.transform(X_full), columns=X_full.columns)\n",
    "X_full_test = pd.DataFrame(scaler.transform(X_full_test), columns=X_full.columns)"
   ]
  }
 ],
 "metadata": {
  "kernelspec": {
   "display_name": "Python 3",
   "language": "python",
   "name": "python3"
  },
  "language_info": {
   "codemirror_mode": {
    "name": "ipython",
    "version": 3
   },
   "file_extension": ".py",
   "mimetype": "text/x-python",
   "name": "python",
   "nbconvert_exporter": "python",
   "pygments_lexer": "ipython3",
   "version": "3.6.5"
  }
 },
 "nbformat": 4,
 "nbformat_minor": 4
}
