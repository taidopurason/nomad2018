{
 "cells": [
  {
   "cell_type": "code",
   "execution_count": 159,
   "metadata": {},
   "outputs": [],
   "source": [
    "# importing functions\n",
    "%run helper_functions.ipynb"
   ]
  },
  {
   "cell_type": "markdown",
   "metadata": {},
   "source": [
    "### Prior transformation of data\n",
    "Engineered features: filling missing values\n",
    "\n",
    "-------\n",
    "\n",
    "Standardizing\n",
    "Log transformatio of targets and \"cAlGa\", \"cAlIn\", \"cGaAl\", \"cInAl\", \"cInGa\", \"distAlO\", \"distGaAl\", \"distGaIn\", \"distGaO\", \"distInAl\", \"distInGa\", \"distInO\", \"spacegroup\""
   ]
  },
  {
   "cell_type": "markdown",
   "metadata": {},
   "source": [
    "### Setting baseline"
   ]
  },
  {
   "cell_type": "code",
   "execution_count": 137,
   "metadata": {},
   "outputs": [
    {
     "name": "stdout",
     "output_type": "stream",
     "text": [
      "0.031076171683833653\n",
      "0.031166211129611043\n",
      "0.08563496903988008\n",
      "0.0864488272506217\n"
     ]
    }
   ],
   "source": [
    "from lightgbm import LGBMRegressor\n",
    "params_fe = {\n",
    "    \"boosting_type\": \"gbdt\",\n",
    "    \"max_depth\": 4,\n",
    "    \"learning_rate\": 0.07,\n",
    "    \"n_estimators\":90,\n",
    "    \"num_leaves\": 15}\n",
    "lgbm_fe = LGBMRegressor(**params_fe)\n",
    "print(evaluate_CV(lgbm_fe, X_full, y_fe))\n",
    "print(evaluate_CV(lgbm_fe, X_full, np.log1p(y_fe), metric=rmsle_scorer_exp))\n",
    "params_be = {\"boosting_type\": \"gbdt\",\n",
    "         \"max_depth\": 5,\n",
    "         \"learning_rate\": 0.12,\n",
    "         \"n_estimators\":100,\n",
    "         \"num_leaves\": 20}\n",
    "lgbm_be = LGBMRegressor(**params_be)\n",
    "print(evaluate_CV(lgbm_be, X_full, y_be))\n",
    "print(evaluate_CV(lgbm_be, X_full, np.log1p(y_be), metric=rmsle_scorer_exp))"
   ]
  },
  {
   "cell_type": "code",
   "execution_count": 104,
   "metadata": {},
   "outputs": [],
   "source": [
    "lgbm_be.fit(X_full, np.log1p(y_be))\n",
    "lgbm_fe.fit(X_full, np.log1p(y_fe))\n",
    "save_results(np.expm1(lgbm_fe.predict(X_full_test)), np.expm1(lgbm_be.predict(X_full_test)), \"baseline\")"
   ]
  },
  {
   "cell_type": "markdown",
   "metadata": {},
   "source": [
    "baseline kaggle private score: 0.06645"
   ]
  },
  {
   "cell_type": "markdown",
   "metadata": {},
   "source": [
    "### Using PCA"
   ]
  },
  {
   "cell_type": "code",
   "execution_count": 62,
   "metadata": {},
   "outputs": [
    {
     "data": {
      "text/plain": [
       "Index(['spacegroup', 'number_of_total_atoms', 'percent_atom_al',\n",
       "       'percent_atom_ga', 'percent_atom_in', 'lattice_vector_1_ang',\n",
       "       'lattice_vector_2_ang', 'lattice_vector_3_ang',\n",
       "       'lattice_angle_alpha_degree', 'lattice_angle_beta_degree',\n",
       "       'lattice_angle_gamma_degree', 'Vatom', 'cAlGa', 'cAlIn', 'cAlO',\n",
       "       'cGaAl', 'cGaIn', 'cGaO', 'cInAl', 'cInGa', 'cInO', 'distAlGa',\n",
       "       'distAlIn', 'distAlO', 'distGaAl', 'distGaIn', 'distGaO', 'distInAl',\n",
       "       'distInGa', 'distInO', 'elInt', 'qAl', 'qGa', 'qIn', 'qO', 'xEq',\n",
       "       'centroSym', 'enantioMorph'],\n",
       "      dtype='object')"
      ]
     },
     "execution_count": 62,
     "metadata": {},
     "output_type": "execute_result"
    }
   ],
   "source": [
    "X_full.columns"
   ]
  },
  {
   "cell_type": "code",
   "execution_count": 160,
   "metadata": {},
   "outputs": [],
   "source": [
    "from sklearn.decomposition import PCA\n",
    "pca = PCA(n_components=1)\n",
    "cols =['lattice_vector_1_ang', 'lattice_vector_2_ang', 'lattice_vector_3_ang']\n",
    "pca.fit(X_full[cols])\n",
    "X_full[\"pca_lattice_vector\"] = pca.transform(X_full[cols])\n",
    "pca.fit(X_full_test[cols])\n",
    "X_full_test[\"pca_lattice_vector\"] = pca.transform(X_full_test[cols])"
   ]
  },
  {
   "cell_type": "code",
   "execution_count": 139,
   "metadata": {},
   "outputs": [],
   "source": [
    "pca = PCA(n_components=1)\n",
    "cols=['lattice_angle_alpha_degree', 'lattice_angle_beta_degree', 'lattice_angle_gamma_degree']\n",
    "pca.fit(X_full[cols])\n",
    "X_full[\"pca_lattice_angle\"] = pca.transform(X_full[cols])\n",
    "X_full_test[\"pca_lattice_angle\"] = pca.transform(X_full_test[cols])"
   ]
  },
  {
   "cell_type": "code",
   "execution_count": 140,
   "metadata": {},
   "outputs": [],
   "source": [
    "pca = PCA(n_components=1)\n",
    "cols=['distAlGa','distAlIn', 'distAlO', 'distGaAl', 'distGaIn', 'distGaO', 'distInAl','distInGa', 'distInO']\n",
    "pca.fit(X_full[cols])\n",
    "X_full[\"pca_c_el\"] = pca.transform(X_full[cols])\n",
    "X_full_test[\"pca_c_el\"] = pca.transform(X_full_test[cols])"
   ]
  },
  {
   "cell_type": "code",
   "execution_count": 66,
   "metadata": {},
   "outputs": [
    {
     "name": "stdout",
     "output_type": "stream",
     "text": [
      "0.030955767184725546\n",
      "0.030917546333049016\n"
     ]
    }
   ],
   "source": [
    "from lightgbm import LGBMRegressor\n",
    "params_fe = {\n",
    "    \"boosting_type\": \"gbdt\",\n",
    "    \"max_depth\": 4,\n",
    "    \"learning_rate\": 0.07,\n",
    "    \"n_estimators\":90,\n",
    "    \"num_leaves\": 15}\n",
    "lgbm_fe = LGBMRegressor(**params_fe)\n",
    "print(evaluate_CV(lgbm_fe, X_full, y_fe))\n",
    "print(evaluate_CV(lgbm_fe, X_full, np.log1p(y_fe), metric=rmsle_scorer_exp))"
   ]
  },
  {
   "cell_type": "code",
   "execution_count": 67,
   "metadata": {},
   "outputs": [
    {
     "name": "stdout",
     "output_type": "stream",
     "text": [
      "0.08687486302070033\n",
      "0.08679369774557788\n"
     ]
    }
   ],
   "source": [
    "params_be = {\"boosting_type\": \"gbdt\",\n",
    "         \"max_depth\": 5,\n",
    "         \"learning_rate\": 0.12,\n",
    "         \"n_estimators\":100,\n",
    "         \"num_leaves\": 20}\n",
    "lgbm_be = LGBMRegressor(**params_be)\n",
    "print(evaluate_CV(lgbm_be, X_full, y_be))\n",
    "print(evaluate_CV(lgbm_be, X_full, np.log1p(y_be), metric=rmsle_scorer_exp))"
   ]
  },
  {
   "cell_type": "markdown",
   "metadata": {},
   "source": [
    "### Dropping columns"
   ]
  },
  {
   "cell_type": "code",
   "execution_count": 72,
   "metadata": {},
   "outputs": [
    {
     "name": "stdout",
     "output_type": "stream",
     "text": [
      "baseline: 0.08687486302070033\n",
      "number_of_total_atoms 0.08678138756006411\n",
      "percent_atom_al 0.08626871580109971\n",
      "percent_atom_ga 0.08624452267794705\n",
      "percent_atom_in 0.08604675641451362\n",
      "lattice_vector_1_ang 0.0859571430189393\n",
      "lattice_vector_2_ang 0.08630052865338995\n",
      "lattice_angle_alpha_degree 0.08636961692467712\n",
      "lattice_angle_beta_degree 0.08625627930406708\n",
      "lattice_angle_gamma_degree 0.08684681269948502\n",
      "cAlIn 0.08639971555908285\n",
      "cAlO 0.08649704170187014\n",
      "cGaO 0.086041197585078\n",
      "cInAl 0.086337739066678\n",
      "cInGa 0.08642664526328717\n",
      "cInO 0.08640133617686747\n",
      "distGaIn 0.08671536845591046\n",
      "distInO 0.08676538307987212\n",
      "elInt 0.08654957842358152\n",
      "qGa 0.08624302909271027\n",
      "qIn 0.08667318278357652\n",
      "qO 0.08671432606794018\n",
      "xEq 0.08679784494814262\n",
      "pca_lattice_vector 0.08567267215052574\n",
      "pca_lattice_angle 0.08653455610621351\n",
      "pca_c_el 0.08623394530855275\n"
     ]
    }
   ],
   "source": [
    "lgbm_be = LGBMRegressor(**params_be)\n",
    "baseline = evaluate_CV(lgbm_be, X_full, y_be) \n",
    "print(\"baseline:\", baseline)\n",
    "for col in X_full.columns:\n",
    "    new_score = evaluate_CV(lgbm_be, X_full.drop(col,axis=1), y_be)\n",
    "    if baseline > new_score:\n",
    "        print(col, new_score)"
   ]
  },
  {
   "cell_type": "code",
   "execution_count": 100,
   "metadata": {},
   "outputs": [
    {
     "name": "stdout",
     "output_type": "stream",
     "text": [
      "0.08557809649469994\n",
      "0.08636191504419785\n"
     ]
    }
   ],
   "source": [
    "lgbm_be = LGBMRegressor(**params_be)\n",
    "cols_to_drop = [\"pca_lattice_vector\", \"cAlIn\"]\n",
    "print(evaluate_CV(lgbm_be, X_full.drop(cols_to_drop, axis=1), y_be))\n",
    "print(evaluate_CV(lgbm_be, X_full.drop(cols_to_drop, axis=1), np.log1p(y_be), metric=rmsle_scorer_exp))"
   ]
  },
  {
   "cell_type": "code",
   "execution_count": 82,
   "metadata": {},
   "outputs": [
    {
     "name": "stdout",
     "output_type": "stream",
     "text": [
      "baseline: 0.030955767184725546\n",
      "percent_atom_al 0.03092520108531252\n",
      "percent_atom_ga 0.030939667877196392\n",
      "lattice_vector_1_ang 0.030935401187939016\n",
      "lattice_angle_beta_degree 0.030949405927485286\n",
      "Vatom 0.0308036268674025\n",
      "cAlGa 0.03092153666837886\n",
      "cAlIn 0.030723810323876923\n",
      "cInAl 0.030828545865309302\n",
      "distAlIn 0.030902373769311615\n",
      "distGaO 0.030925790276504266\n",
      "distInAl 0.030936477541494478\n",
      "distInGa 0.03092631839701839\n",
      "distInO 0.030932417792221722\n",
      "qO 0.030926493602961215\n",
      "centroSym 0.030934273091278986\n",
      "pca_c_el 0.03093127052355891\n"
     ]
    }
   ],
   "source": [
    "lgbm_fe = LGBMRegressor(**params_fe)\n",
    "baseline = evaluate_CV(lgbm_fe, X_full, y_fe) \n",
    "print(\"baseline:\", baseline)\n",
    "for col in X_full.columns:\n",
    "    new_score = evaluate_CV(lgbm_fe, X_full.drop(col,axis=1), y_fe)\n",
    "    if baseline > new_score:\n",
    "        print(col, new_score)"
   ]
  },
  {
   "cell_type": "code",
   "execution_count": 189,
   "metadata": {},
   "outputs": [
    {
     "name": "stdout",
     "output_type": "stream",
     "text": [
      "0.030623077027744437\n",
      "0.030427157788177728\n"
     ]
    }
   ],
   "source": [
    "lgbm_fe = LGBMRegressor(**params_fe)\n",
    "cols_to_drop = [\"cAlIn\", \"cInAl\"]\n",
    "print(evaluate_CV(lgbm_fe, X_full.drop(cols_to_drop, axis=1), y_fe))\n",
    "print(evaluate_CV(lgbm_fe, X_full.drop(cols_to_drop, axis=1), np.log1p(y_fe), metric=rmsle_scorer_exp))"
   ]
  },
  {
   "cell_type": "code",
   "execution_count": 161,
   "metadata": {},
   "outputs": [],
   "source": [
    "X_full_be = X_full.drop([\"cAlIn\"], axis=1)\n",
    "X_full_fe = X_full.drop([\"cAlIn\", \"cInAl\"], axis=1)\n",
    "X_full_test_be = X_full_test.drop([\"cAlIn\"], axis=1)\n",
    "X_full_test_fe = X_full_test.drop([\"cAlIn\", \"cInAl\"], axis=1)"
   ]
  },
  {
   "cell_type": "code",
   "execution_count": 162,
   "metadata": {},
   "outputs": [],
   "source": [
    "lgbm_be.fit(X_full_be, np.log1p(y_be))\n",
    "lgbm_fe.fit(X_full_fe, np.log1p(y_fe))\n",
    "save_results(np.expm1(lgbm_fe.predict(X_full_test_fe)), np.expm1(lgbm_be.predict(X_full_test_be)), \"removal + pca\")"
   ]
  },
  {
   "cell_type": "markdown",
   "metadata": {},
   "source": [
    "Kaggle private score without pca: 0.06631\n",
    "\n",
    "Kaggle private score with pca: 0.06681"
   ]
  },
  {
   "cell_type": "code",
   "execution_count": 1,
   "metadata": {},
   "outputs": [],
   "source": [
    "# reset features\n",
    "%run helper_functions.ipynb\n",
    "X_full_be = X_full.drop([\"cAlIn\"], axis=1)\n",
    "X_full_fe = X_full.drop([\"cAlIn\", \"cInAl\"], axis=1)\n",
    "X_full_test_be = X_full_test.drop([\"cAlIn\"], axis=1)\n",
    "X_full_test_fe = X_full_test.drop([\"cAlIn\", \"cInAl\"], axis=1)"
   ]
  },
  {
   "cell_type": "markdown",
   "metadata": {},
   "source": [
    "## Parameter tuning"
   ]
  },
  {
   "cell_type": "code",
   "execution_count": 2,
   "metadata": {},
   "outputs": [],
   "source": [
    "from mlxtend.regressor import StackingCVRegressor\n",
    "from sklearn.neighbors import KNeighborsRegressor\n",
    "from sklearn.neural_network import MLPRegressor\n",
    "from sklearn.svm import SVR\n",
    "from sklearn.ensemble import RandomForestRegressor, ExtraTreesRegressor, AdaBoostRegressor\n",
    "from lightgbm import LGBMRegressor\n",
    "from sklearn.linear_model import LogisticRegression\n",
    "from sklearn.linear_model import Ridge, Lasso\n",
    "from sklearn.decomposition import PCA"
   ]
  },
  {
   "cell_type": "code",
   "execution_count": 3,
   "metadata": {},
   "outputs": [],
   "source": [
    "from sklearn.model_selection import GridSearchCV"
   ]
  },
  {
   "cell_type": "code",
   "execution_count": null,
   "metadata": {},
   "outputs": [],
   "source": [
    "def param_search(model, grid, fe=True, transform_target=True):\n",
    "    gs = GridSearchCV(model, grid, n_jobs=-1, scoring=(rmsle_scorer_exp if transform_target else rmsle_scorer), cv=3)\n",
    "    target = (y_fe if fe else y_be)\n",
    "    gs.fit(X_full_fe if fe else X_full_be , np.log1p(target) if transform_target else target)\n",
    "    print(f\"best score: {gs.best_score_}\")\n",
    "    print(f\"best params: {gs.best_params_}\")\n",
    "    return gs.best_params_\n",
    "    "
   ]
  },
  {
   "cell_type": "code",
   "execution_count": 95,
   "metadata": {},
   "outputs": [
    {
     "name": "stderr",
     "output_type": "stream",
     "text": [
      "C:\\ProgramData\\Anaconda3\\lib\\site-packages\\sklearn\\model_selection\\_split.py:1978: FutureWarning: The default value of cv will change from 3 to 5 in version 0.22. Specify it explicitly to silence this warning.\n",
      "  warnings.warn(CV_WARNING, FutureWarning)\n"
     ]
    },
    {
     "name": "stdout",
     "output_type": "stream",
     "text": [
      "best score: -0.09422746032504561\n",
      "best params: {'alpha': 0.0001, 'random_state': 3}\n"
     ]
    },
    {
     "name": "stderr",
     "output_type": "stream",
     "text": [
      "C:\\ProgramData\\Anaconda3\\lib\\site-packages\\sklearn\\model_selection\\_split.py:1978: FutureWarning: The default value of cv will change from 3 to 5 in version 0.22. Specify it explicitly to silence this warning.\n",
      "  warnings.warn(CV_WARNING, FutureWarning)\n"
     ]
    },
    {
     "name": "stdout",
     "output_type": "stream",
     "text": [
      "best score: -0.048699034134887395\n",
      "best params: {'alpha': 2, 'random_state': 3}\n"
     ]
    }
   ],
   "source": [
    "\n",
    "model = Ridge()\n",
    "grid = {\n",
    "    \"alpha\":[0.0001,0.005,0.01,0.05,0.1,0.5,1,1.5,2,2.5],\n",
    "    \"random_state\": [3]\n",
    "}\n",
    "\n",
    "ridge_params_be = param_search(model, grid, fe=False, transform_target=True)\n",
    "\n",
    "ridge_params_fe = param_search(model, grid, fe=True, transform_target=True)\n"
   ]
  },
  {
   "cell_type": "code",
   "execution_count": 103,
   "metadata": {},
   "outputs": [
    {
     "name": "stdout",
     "output_type": "stream",
     "text": [
      "best score: -0.08842670471149945\n",
      "best params: {'bootstrap': True, 'max_depth': 12, 'n_estimators': 200, 'random_state': 3}\n"
     ]
    },
    {
     "name": "stderr",
     "output_type": "stream",
     "text": [
      "C:\\ProgramData\\Anaconda3\\lib\\site-packages\\sklearn\\model_selection\\_split.py:1978: FutureWarning: The default value of cv will change from 3 to 5 in version 0.22. Specify it explicitly to silence this warning.\n",
      "  warnings.warn(CV_WARNING, FutureWarning)\n"
     ]
    },
    {
     "name": "stdout",
     "output_type": "stream",
     "text": [
      "best score: -0.02924787537074349\n",
      "best params: {'bootstrap': True, 'max_depth': None, 'n_estimators': 250, 'random_state': 3}\n"
     ]
    }
   ],
   "source": [
    "model = ExtraTreesRegressor()\n",
    "grid = {\n",
    "    \"n_estimators\":[100,150,200,250],\n",
    "    \"max_depth\":[None,10,12,15],\n",
    "    \"bootstrap\":[True, False],\n",
    "    \"random_state\": [3]\n",
    "}\n",
    "\n",
    "et_params_be = param_search(model, grid, fe=False, transform_target=True)\n",
    "et_params_fe = param_search(model, grid, fe=True, transform_target=True)"
   ]
  },
  {
   "cell_type": "code",
   "execution_count": 108,
   "metadata": {},
   "outputs": [],
   "source": [
    "et_params_fe={'bootstrap': True, 'max_depth': None, 'n_estimators': 250, 'random_state': 3}\n",
    "et_fe = ExtraTreesRegressor(**et_params_fe)\n",
    "params_be = {\"boosting_type\": \"gbdt\",\"max_depth\": 5,\"learning_rate\": 0.12,\"n_estimators\":100,\"num_leaves\": 20}\n",
    "lgbm_be = LGBMRegressor(**params_be)\n",
    "\n",
    "lgbm_be.fit(X_full_be, np.log1p(y_be))\n",
    "et_fe.fit(X_full_fe, np.log1p(y_fe))\n",
    "\n",
    "save_results(np.expm1(et_fe.predict(X_full_test_fe)), np.expm1(lgbm_be.predict(X_full_test_be)), \"et_fe + lgbm_be\")"
   ]
  },
  {
   "cell_type": "code",
   "execution_count": null,
   "metadata": {},
   "outputs": [],
   "source": []
  },
  {
   "cell_type": "markdown",
   "metadata": {},
   "source": [
    "## Training 2-level stacking model"
   ]
  },
  {
   "cell_type": "code",
   "execution_count": 10,
   "metadata": {},
   "outputs": [],
   "source": [
    "from sklearn.model_selection import train_test_split\n",
    "X_train_fe, X_val_fe, y_train_fe, y_val_fe = train_test_split(X_full_fe, y_fe, train_size=0.2, random_state=1)\n",
    "X_train_be, X_val_be, y_train_be, y_val_be = train_test_split(X_full_be, y_be, train_size=0.2, random_state=1)"
   ]
  },
  {
   "cell_type": "code",
   "execution_count": 17,
   "metadata": {},
   "outputs": [
    {
     "name": "stdout",
     "output_type": "stream",
     "text": [
      "fe rmsle: 0.03395452748503327\n",
      "be rmsle: 0.09719871575692053\n"
     ]
    }
   ],
   "source": [
    "params_be = {\"boosting_type\": \"gbdt\",\n",
    "         \"max_depth\": 5,\n",
    "         \"learning_rate\": 0.12,\n",
    "         \"n_estimators\":100,\n",
    "         \"num_leaves\": 20}\n",
    "lgbm_be = LGBMRegressor(**params_be)\n",
    "\n",
    "params_fe = {\n",
    "    \"boosting_type\": \"gbdt\",\n",
    "    \"max_depth\": 4,\n",
    "    \"learning_rate\": 0.07,\n",
    "    \"n_estimators\":90,\n",
    "    \"num_leaves\": 15}\n",
    "lgbm_fe = LGBMRegressor(**params_fe)\n",
    "\n",
    "lgbm_be.fit(X_train_be, np.log1p(y_train_be))\n",
    "lgbm_fe.fit(X_train_fe, np.log1p(y_train_fe))\n",
    "print(\"fe rmsle:\",rmsle(y_val_fe, np.expm1(lgbm_fe.predict(X_val_fe.values))))\n",
    "print(\"be rmsle:\",rmsle(y_val_be, np.expm1(lgbm_be.predict(X_val_be.values))))"
   ]
  },
  {
   "cell_type": "markdown",
   "metadata": {},
   "source": [
    "### Preparing individual classifiers"
   ]
  },
  {
   "cell_type": "markdown",
   "metadata": {},
   "source": [
    "#### Formation energy classifiers"
   ]
  },
  {
   "cell_type": "code",
   "execution_count": 5,
   "metadata": {},
   "outputs": [],
   "source": [
    "rf_fe = RandomForestRegressor(\n",
    "    criterion='mse', \n",
    "    n_estimators=1000, \n",
    "    max_depth=35, \n",
    "    min_samples_split=4, \n",
    "    random_state=1)\n",
    "\n",
    "mlp_fe = MLPRegressor(\n",
    "    activation=\"relu\", \n",
    "    solver=\"lbfgs\", \n",
    "    learning_rate=\"invscaling\", \n",
    "    hidden_layer_sizes=(50, 50))\n",
    "\n",
    "knn_fe = KNeighborsRegressor(\n",
    "    n_neighbors=5, \n",
    "    weights='uniform', \n",
    "    metric='manhattan')\n",
    "\n",
    "params_fe = {\n",
    "    \"boosting_type\": \"gbdt\",\n",
    "    \"max_depth\": 4,\n",
    "    \"learning_rate\": 0.07,\n",
    "    \"n_estimators\":60,\n",
    "    \"num_leaves\": 15}\n",
    "\n",
    "et_params_fe={'bootstrap': True, \n",
    "              'max_depth': None, \n",
    "              'n_estimators': 250, \n",
    "              'random_state': 3}\n",
    "et_fe = ExtraTreesRegressor(**et_params_fe)\n",
    "\n",
    "\n",
    "params_be = {\"boosting_type\": \"gbdt\",\"max_depth\": 5,\"learning_rate\": 0.12,\"n_estimators\":100,\"num_leaves\": 20}\n",
    "lgbm_fe = LGBMRegressor(**params_fe)"
   ]
  },
  {
   "cell_type": "code",
   "execution_count": 29,
   "metadata": {},
   "outputs": [],
   "source": [
    "clf_fe =  [rf_fe, mlp_fe, knn_fe, lgbm_fe, et_fe]"
   ]
  },
  {
   "cell_type": "code",
   "execution_count": 12,
   "metadata": {},
   "outputs": [],
   "source": [
    "meta_fe = Ridge()"
   ]
  },
  {
   "cell_type": "code",
   "execution_count": 13,
   "metadata": {},
   "outputs": [],
   "source": [
    "stack_fe = StackingCVRegressor(regressors=clf_fe,meta_regressor=meta_fe, n_jobs=-1, random_state=3, cv=3)"
   ]
  },
  {
   "cell_type": "code",
   "execution_count": 23,
   "metadata": {},
   "outputs": [
    {
     "name": "stdout",
     "output_type": "stream",
     "text": [
      "0.03380932097810664\n"
     ]
    }
   ],
   "source": [
    "stack_fe.fit(X_train_fe.values, y_train_fe.values)\n",
    "print(rmsle(y_val_fe, stack_fe.predict(X_val_fe.values)))\n",
    "#print(evaluate_CV(stack_fe, X_full_fe.values, np.log1p(y_fe.values), metric=rmsle_scorer_exp))"
   ]
  },
  {
   "cell_type": "code",
   "execution_count": 27,
   "metadata": {},
   "outputs": [],
   "source": [
    "stack_fe.fit(X_full_fe.values, y_fe.values)\n",
    "params_be = {\"boosting_type\": \"gbdt\",\"max_depth\": 5,\"learning_rate\": 0.12,\"n_estimators\":100,\"num_leaves\": 20}\n",
    "lgbm_be = LGBMRegressor(**params_be)\n",
    "\n",
    "lgbm_be.fit(X_full_be, np.log1p(y_be))\n",
    "save_results(stack_fe.predict(X_full_test_fe), np.expm1(lgbm_be.predict(X_full_test_be)), \"stacking fe\")"
   ]
  },
  {
   "cell_type": "markdown",
   "metadata": {},
   "source": [
    "#### Bandgap energy classifiers"
   ]
  },
  {
   "cell_type": "code",
   "execution_count": 174,
   "metadata": {},
   "outputs": [],
   "source": [
    "mlp_be = MLPRegressor(\n",
    "    activation=\"tanh\", \n",
    "    solver=\"lbfgs\", \n",
    "    learning_rate=\"invscaling\", \n",
    "    hidden_layer_sizes=(50, 100, 50))\n",
    "\n",
    "svr_be = SVR(kernel=\"poly\", gamma=\"scale\")\n",
    "\n",
    "params_be = {\"boosting_type\": \"gbdt\",\n",
    "         \"max_depth\": 5,\n",
    "         \"learning_rate\": 0.12,\n",
    "         \"n_estimators\":100,\n",
    "         \"num_leaves\": 20}\n",
    "\n",
    "lgbm_be = LGBMRegressor(**params_be)\n"
   ]
  },
  {
   "cell_type": "code",
   "execution_count": 207,
   "metadata": {},
   "outputs": [],
   "source": [
    "meta_be = Ridge()"
   ]
  },
  {
   "cell_type": "code",
   "execution_count": 208,
   "metadata": {},
   "outputs": [],
   "source": [
    "clf_be = [mlp_be, svr_be, lgbm_be]"
   ]
  },
  {
   "cell_type": "code",
   "execution_count": 209,
   "metadata": {},
   "outputs": [],
   "source": [
    "stack_be = StackingCVRegressor(regressors=clf_be, meta_regressor=meta_be, random_state=3, n_jobs=-1)\n",
    "\n"
   ]
  },
  {
   "cell_type": "code",
   "execution_count": 28,
   "metadata": {},
   "outputs": [
    {
     "ename": "NameError",
     "evalue": "name 'stack_be' is not defined",
     "output_type": "error",
     "traceback": [
      "\u001b[1;31m---------------------------------------------------------------------------\u001b[0m",
      "\u001b[1;31mNameError\u001b[0m                                 Traceback (most recent call last)",
      "\u001b[1;32m<ipython-input-28-b399e0b38ba8>\u001b[0m in \u001b[0;36m<module>\u001b[1;34m\u001b[0m\n\u001b[1;32m----> 1\u001b[1;33m \u001b[0mstack_be\u001b[0m\u001b[1;33m.\u001b[0m\u001b[0mfit\u001b[0m\u001b[1;33m(\u001b[0m\u001b[0mX_train_be\u001b[0m\u001b[1;33m.\u001b[0m\u001b[0mvalues\u001b[0m\u001b[1;33m,\u001b[0m \u001b[0my_train_be\u001b[0m\u001b[1;33m.\u001b[0m\u001b[0mvalues\u001b[0m\u001b[1;33m)\u001b[0m\u001b[1;33m\u001b[0m\u001b[0m\n\u001b[0m\u001b[0;32m      2\u001b[0m \u001b[0mprint\u001b[0m\u001b[1;33m(\u001b[0m\u001b[0mrmsle\u001b[0m\u001b[1;33m(\u001b[0m\u001b[0my_val_be\u001b[0m\u001b[1;33m,\u001b[0m \u001b[0mstack_be\u001b[0m\u001b[1;33m.\u001b[0m\u001b[0mpredict\u001b[0m\u001b[1;33m(\u001b[0m\u001b[0mX_val_be\u001b[0m\u001b[1;33m.\u001b[0m\u001b[0mvalues\u001b[0m\u001b[1;33m)\u001b[0m\u001b[1;33m)\u001b[0m\u001b[1;33m)\u001b[0m\u001b[1;33m\u001b[0m\u001b[0m\n\u001b[0;32m      3\u001b[0m \u001b[0mprint\u001b[0m\u001b[1;33m(\u001b[0m\u001b[0mevaluate_CV\u001b[0m\u001b[1;33m(\u001b[0m\u001b[0mstack_be\u001b[0m\u001b[1;33m,\u001b[0m \u001b[0mX_full_be\u001b[0m\u001b[1;33m.\u001b[0m\u001b[0mvalues\u001b[0m\u001b[1;33m,\u001b[0m \u001b[0mnp\u001b[0m\u001b[1;33m.\u001b[0m\u001b[0mlog1p\u001b[0m\u001b[1;33m(\u001b[0m\u001b[0my_be\u001b[0m\u001b[1;33m.\u001b[0m\u001b[0mvalues\u001b[0m\u001b[1;33m)\u001b[0m\u001b[1;33m,\u001b[0m \u001b[0mmetric\u001b[0m\u001b[1;33m=\u001b[0m\u001b[0mrmsle_scorer_exp\u001b[0m\u001b[1;33m)\u001b[0m\u001b[1;33m)\u001b[0m\u001b[1;33m\u001b[0m\u001b[0m\n",
      "\u001b[1;31mNameError\u001b[0m: name 'stack_be' is not defined"
     ]
    }
   ],
   "source": [
    "stack_be.fit(X_train_be.values, y_train_be.values)\n",
    "print(rmsle(y_val_be, stack_be.predict(X_val_be.values)))\n",
    "print(evaluate_CV(stack_be, X_full_be.values, np.log1p(y_be.values), metric=rmsle_scorer_exp))"
   ]
  },
  {
   "cell_type": "code",
   "execution_count": null,
   "metadata": {},
   "outputs": [],
   "source": []
  }
 ],
 "metadata": {
  "kernelspec": {
   "display_name": "Python 3",
   "language": "python",
   "name": "python3"
  },
  "language_info": {
   "codemirror_mode": {
    "name": "ipython",
    "version": 3
   },
   "file_extension": ".py",
   "mimetype": "text/x-python",
   "name": "python",
   "nbconvert_exporter": "python",
   "pygments_lexer": "ipython3",
   "version": "3.6.5"
  }
 },
 "nbformat": 4,
 "nbformat_minor": 4
}
