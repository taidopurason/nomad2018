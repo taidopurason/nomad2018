{
 "cells": [
  {
   "cell_type": "markdown",
   "metadata": {},
   "source": [
    "# Further feature engineering"
   ]
  },
  {
   "cell_type": "markdown",
   "metadata": {},
   "source": [
    "Running this notebook requires lightgbm and mlxtend to be installed."
   ]
  },
  {
   "cell_type": "code",
   "execution_count": 1,
   "metadata": {},
   "outputs": [],
   "source": [
    "# importing functions\n",
    "%run helper_functions.ipynb"
   ]
  },
  {
   "cell_type": "markdown",
   "metadata": {},
   "source": [
    "### Prior transformation of data\n",
    "* Adding calculated values (calculated in Data preparation.ipynb)\n",
    "* Engineering new features from spacegroup\n",
    "* Filling missing values\n",
    "* Applying log-transformation to some features *(\"cAlGa\", \"cAlIn\", \"cGaAl\", \"cInAl\", \"cInGa\", \"distAlO\", \"distGaAl\", \"distGaIn\", \"distGaO\", \"distInAl\", \"distInGa\", \"distInO\", \"spacegroup\")*\n",
    "* Standardizing\n",
    "\n",
    "These are done in helper_functions.ipynb"
   ]
  },
  {
   "cell_type": "markdown",
   "metadata": {},
   "source": [
    "### Setting baseline"
   ]
  },
  {
   "cell_type": "markdown",
   "metadata": {},
   "source": [
    "#### Formation energy"
   ]
  },
  {
   "cell_type": "code",
   "execution_count": 2,
   "metadata": {},
   "outputs": [
    {
     "name": "stdout",
     "output_type": "stream",
     "text": [
      "CV score: 0.031066445223411267\n",
      "CV score with log-transformation on target: 0.030964303938499287\n"
     ]
    }
   ],
   "source": [
    "from lightgbm import LGBMRegressor\n",
    "params_fe = {\n",
    "    \"boosting_type\": \"gbdt\",\n",
    "    \"max_depth\": 4,\n",
    "    \"learning_rate\": 0.07,\n",
    "    \"n_estimators\":90,\n",
    "    \"num_leaves\": 15}\n",
    "lgbm_fe = LGBMRegressor(**params_fe)\n",
    "print(\"CV score:\", evaluate_CV(lgbm_fe, X_full, y_fe))\n",
    "print(\"CV score with log-transformation on target:\",evaluate_CV(lgbm_fe, X_full, np.log1p(y_fe), metric=rmsle_scorer_exp))"
   ]
  },
  {
   "cell_type": "markdown",
   "metadata": {},
   "source": [
    "#### Bandgap energy"
   ]
  },
  {
   "cell_type": "code",
   "execution_count": 3,
   "metadata": {},
   "outputs": [
    {
     "name": "stdout",
     "output_type": "stream",
     "text": [
      "CV score: 0.08758422696536297\n",
      "CV score with log-transformation on target: 0.08727756650641322\n"
     ]
    }
   ],
   "source": [
    "params_be = {\"boosting_type\": \"gbdt\",\n",
    "         \"max_depth\": 5,\n",
    "         \"learning_rate\": 0.12,\n",
    "         \"n_estimators\":100,\n",
    "         \"num_leaves\": 20}\n",
    "lgbm_be = LGBMRegressor(**params_be)\n",
    "print(\"CV score:\", evaluate_CV(lgbm_be, X_full, y_be))\n",
    "print(\"CV score with log-transformation on target:\", evaluate_CV(lgbm_be, X_full, np.log1p(y_be), metric=rmsle_scorer_exp))"
   ]
  },
  {
   "cell_type": "code",
   "execution_count": 4,
   "metadata": {
    "jupyter": {
     "source_hidden": true
    }
   },
   "outputs": [],
   "source": [
    "# for submitting to Kaggle\n",
    "#lgbm_be.fit(X_full, np.log1p(y_be))\n",
    "#lgbm_fe.fit(X_full, np.log1p(y_fe))\n",
    "#save_results(np.expm1(lgbm_fe.predict(X_full_test)), np.expm1(lgbm_be.predict(X_full_test)), \"baseline\")"
   ]
  },
  {
   "cell_type": "markdown",
   "metadata": {},
   "source": [
    "Baseline kaggle private score: 0.06645"
   ]
  },
  {
   "cell_type": "markdown",
   "metadata": {},
   "source": [
    "### Using PCA"
   ]
  },
  {
   "cell_type": "markdown",
   "metadata": {},
   "source": [
    "Here I will test if using PCA will give any benefit."
   ]
  },
  {
   "cell_type": "code",
   "execution_count": 5,
   "metadata": {},
   "outputs": [],
   "source": [
    "from sklearn.decomposition import PCA\n",
    "pca = PCA(n_components=1)\n",
    "cols =['lattice_vector_1_ang', 'lattice_vector_2_ang', 'lattice_vector_3_ang']\n",
    "pca.fit(X_full[cols])\n",
    "X_full[\"pca_lattice_vector\"] = pca.transform(X_full[cols])\n",
    "pca.fit(X_full_test[cols])\n",
    "X_full_test[\"pca_lattice_vector\"] = pca.transform(X_full_test[cols])"
   ]
  },
  {
   "cell_type": "code",
   "execution_count": 6,
   "metadata": {},
   "outputs": [],
   "source": [
    "pca = PCA(n_components=1)\n",
    "cols=['lattice_angle_alpha_degree', 'lattice_angle_beta_degree', 'lattice_angle_gamma_degree']\n",
    "pca.fit(X_full[cols])\n",
    "X_full[\"pca_lattice_angle\"] = pca.transform(X_full[cols])\n",
    "X_full_test[\"pca_lattice_angle\"] = pca.transform(X_full_test[cols])"
   ]
  },
  {
   "cell_type": "code",
   "execution_count": 7,
   "metadata": {},
   "outputs": [],
   "source": [
    "pca = PCA(n_components=1)\n",
    "cols=['distAlGa','distAlIn', 'distAlO', 'distGaAl', 'distGaIn', 'distGaO', 'distInAl','distInGa', 'distInO']\n",
    "pca.fit(X_full[cols])\n",
    "X_full[\"pca_c_el\"] = pca.transform(X_full[cols])\n",
    "X_full_test[\"pca_c_el\"] = pca.transform(X_full_test[cols])"
   ]
  },
  {
   "cell_type": "code",
   "execution_count": 8,
   "metadata": {},
   "outputs": [
    {
     "name": "stdout",
     "output_type": "stream",
     "text": [
      "CV score: 0.030744992744092387\n",
      "CV score with log-transformation on target: 0.03084004163630935\n"
     ]
    }
   ],
   "source": [
    "from lightgbm import LGBMRegressor\n",
    "params_fe = {\n",
    "    \"boosting_type\": \"gbdt\",\n",
    "    \"max_depth\": 4,\n",
    "    \"learning_rate\": 0.07,\n",
    "    \"n_estimators\":90,\n",
    "    \"num_leaves\": 15}\n",
    "lgbm_fe = LGBMRegressor(**params_fe)\n",
    "print(\"CV score:\",evaluate_CV(lgbm_fe, X_full, y_fe))\n",
    "print(\"CV score with log-transformation on target:\", evaluate_CV(lgbm_fe, X_full, np.log1p(y_fe), metric=rmsle_scorer_exp))"
   ]
  },
  {
   "cell_type": "code",
   "execution_count": 9,
   "metadata": {},
   "outputs": [
    {
     "name": "stdout",
     "output_type": "stream",
     "text": [
      "CV score: 0.08715000925740105\n",
      "CV score with log-transformation on target: 0.08677325468186294\n"
     ]
    }
   ],
   "source": [
    "params_be = {\"boosting_type\": \"gbdt\",\n",
    "         \"max_depth\": 5,\n",
    "         \"learning_rate\": 0.12,\n",
    "         \"n_estimators\":100,\n",
    "         \"num_leaves\": 20}\n",
    "lgbm_be = LGBMRegressor(**params_be)\n",
    "print(\"CV score:\",evaluate_CV(lgbm_be, X_full, y_be))\n",
    "print(\"CV score with log-transformation on target:\",evaluate_CV(lgbm_be, X_full, np.log1p(y_be), metric=rmsle_scorer_exp))"
   ]
  },
  {
   "cell_type": "markdown",
   "metadata": {},
   "source": [
    "### Dropping columns"
   ]
  },
  {
   "cell_type": "markdown",
   "metadata": {},
   "source": [
    "Testing if dropping any columns will give a better score."
   ]
  },
  {
   "cell_type": "code",
   "execution_count": 10,
   "metadata": {},
   "outputs": [
    {
     "name": "stdout",
     "output_type": "stream",
     "text": [
      "baseline: 0.08715000925740105\n",
      "percent_atom_al 0.08621065106284617\n",
      "percent_atom_ga 0.086415160363865\n",
      "lattice_vector_1_ang 0.0868712784667651\n",
      "lattice_vector_2_ang 0.08586715437593839\n",
      "lattice_vector_3_ang 0.08700375247938721\n",
      "lattice_angle_alpha_degree 0.0869579113060174\n",
      "lattice_angle_beta_degree 0.08695994474613063\n",
      "cAlAl 0.08705987928697848\n",
      "cAlGa 0.0866104975587514\n",
      "cAlIn 0.08678722837191286\n",
      "cAlO 0.08680073863465923\n",
      "cGaAl 0.0869645283264347\n",
      "cGaGa 0.08679901138522597\n",
      "cGaIn 0.08711655051669535\n",
      "cGaO 0.08689612905066052\n",
      "cInAl 0.08648972206992461\n",
      "cInGa 0.08674504211638843\n",
      "cInIn 0.08713715137765658\n",
      "distAlAl 0.08682884426837939\n",
      "distAlIn 0.08697349966879409\n",
      "distAlO 0.08688603557769445\n",
      "distGaGa 0.08694167168861149\n",
      "distGaIn 0.08683990153098789\n",
      "distInGa 0.08685202560294314\n",
      "distInIn 0.08710651750246226\n",
      "distInO 0.08707136174234235\n",
      "qAl 0.08714778473557874\n",
      "qGa 0.08711455715587571\n",
      "qIn 0.0870801054813535\n",
      "pca_lattice_vector 0.08654929560908897\n",
      "pca_lattice_angle 0.08704129320860352\n",
      "pca_c_el 0.08681569891319015\n"
     ]
    }
   ],
   "source": [
    "lgbm_be = LGBMRegressor(**params_be)\n",
    "baseline = evaluate_CV(lgbm_be, X_full, y_be) \n",
    "print(\"baseline:\", baseline)\n",
    "for col in X_full.columns:\n",
    "    new_score = evaluate_CV(lgbm_be, X_full.drop(col,axis=1), y_be)\n",
    "    if baseline > new_score:\n",
    "        print(col, new_score)"
   ]
  },
  {
   "cell_type": "code",
   "execution_count": 11,
   "metadata": {},
   "outputs": [
    {
     "name": "stdout",
     "output_type": "stream",
     "text": [
      "0.08633234653505777\n",
      "0.08597707489194743\n"
     ]
    }
   ],
   "source": [
    "lgbm_be = LGBMRegressor(**params_be)\n",
    "cols_to_drop = [\"pca_lattice_vector\", \"cAlIn\"]\n",
    "print(evaluate_CV(lgbm_be, X_full.drop(cols_to_drop, axis=1), y_be))\n",
    "print(evaluate_CV(lgbm_be, X_full.drop(cols_to_drop, axis=1), np.log1p(y_be), metric=rmsle_scorer_exp))"
   ]
  },
  {
   "cell_type": "code",
   "execution_count": 12,
   "metadata": {},
   "outputs": [
    {
     "name": "stdout",
     "output_type": "stream",
     "text": [
      "baseline: 0.030744992744092387\n",
      "number_of_total_atoms 0.03072434295835206\n",
      "percent_atom_al 0.030698050909873827\n",
      "lattice_angle_beta_degree 0.030653174631601693\n",
      "Vatom 0.030562221893803365\n",
      "cAlGa 0.03073695975675498\n",
      "cAlIn 0.03052625300882798\n",
      "cGaAl 0.03069949281489056\n",
      "cGaGa 0.030717432032607943\n",
      "cGaIn 0.030717932812683264\n",
      "cGaO 0.03074184269705485\n",
      "cInAl 0.030603244347125347\n",
      "cInIn 0.03071828813673763\n",
      "distGaO 0.030721962661226863\n",
      "qAl 0.030738007735953615\n",
      "qO 0.030713420362384263\n",
      "centroSym 0.03073249927157435\n"
     ]
    }
   ],
   "source": [
    "lgbm_fe = LGBMRegressor(**params_fe)\n",
    "baseline = evaluate_CV(lgbm_fe, X_full, y_fe) \n",
    "print(\"baseline:\", baseline)\n",
    "for col in X_full.columns:\n",
    "    new_score = evaluate_CV(lgbm_fe, X_full.drop(col,axis=1), y_fe)\n",
    "    if baseline > new_score:\n",
    "        print(col, new_score)"
   ]
  },
  {
   "cell_type": "code",
   "execution_count": 13,
   "metadata": {},
   "outputs": [
    {
     "name": "stdout",
     "output_type": "stream",
     "text": [
      "0.03008359331808047\n",
      "0.030236627563077028\n"
     ]
    }
   ],
   "source": [
    "lgbm_fe = LGBMRegressor(**params_fe)\n",
    "cols_to_drop = [\"cAlIn\", \"cInAl\"]\n",
    "print(evaluate_CV(lgbm_fe, X_full.drop(cols_to_drop, axis=1), y_fe))\n",
    "print(evaluate_CV(lgbm_fe, X_full.drop(cols_to_drop, axis=1), np.log1p(y_fe), metric=rmsle_scorer_exp))"
   ]
  },
  {
   "cell_type": "code",
   "execution_count": 14,
   "metadata": {},
   "outputs": [],
   "source": [
    "X_full_be = X_full.drop([\"cAlIn\"], axis=1)\n",
    "X_full_fe = X_full.drop([\"cAlIn\", \"cInAl\"], axis=1)\n",
    "X_full_test_be = X_full_test.drop([\"cAlIn\"], axis=1)\n",
    "X_full_test_fe = X_full_test.drop([\"cAlIn\", \"cInAl\"], axis=1)"
   ]
  },
  {
   "cell_type": "code",
   "execution_count": 15,
   "metadata": {},
   "outputs": [],
   "source": [
    "# saving results for kaggle\n",
    "#lgbm_be.fit(X_full_be, np.log1p(y_be))\n",
    "#lgbm_fe.fit(X_full_fe, np.log1p(y_fe))\n",
    "#save_results(np.expm1(lgbm_fe.predict(X_full_test_fe)), np.expm1(lgbm_be.predict(X_full_test_be)), \"removal + pca\")"
   ]
  },
  {
   "cell_type": "markdown",
   "metadata": {},
   "source": [
    "Kaggle private score without pca: 0.06631\n",
    "\n",
    "Kaggle private score with pca: 0.06681\n",
    "\n",
    "**We can conclude that PCA didn't help us achieve better results for the test dataset. Dropping certain columns will be beneficial.**"
   ]
  },
  {
   "cell_type": "markdown",
   "metadata": {},
   "source": [
    "# Training a stacked model"
   ]
  },
  {
   "cell_type": "markdown",
   "metadata": {},
   "source": [
    "## Reloading the dataset before continuing"
   ]
  },
  {
   "cell_type": "code",
   "execution_count": 16,
   "metadata": {},
   "outputs": [],
   "source": [
    "# reset features\n",
    "%run helper_functions.ipynb\n",
    "useless_cols = ['cAlAl', 'cInIn', 'cGaGa', 'distAlAl', 'distInIn', 'distGaGa']\n",
    "X_full.drop(useless_cols, axis=1, inplace=True)\n",
    "X_full_test.drop(useless_cols, axis=1, inplace=True)\n",
    "X_full_be = X_full.drop([\"cAlIn\"], axis=1)\n",
    "X_full_fe = X_full.drop([\"cAlIn\", \"cInAl\"], axis=1)\n",
    "X_full_test_be = X_full_test.drop([\"cAlIn\"], axis=1)\n",
    "X_full_test_fe = X_full_test.drop([\"cAlIn\", \"cInAl\"], axis=1)\n"
   ]
  },
  {
   "cell_type": "markdown",
   "metadata": {},
   "source": [
    "## Parameter tuning"
   ]
  },
  {
   "cell_type": "markdown",
   "metadata": {},
   "source": [
    "Tuning some additional models for the 2-level regressor."
   ]
  },
  {
   "cell_type": "code",
   "execution_count": 17,
   "metadata": {},
   "outputs": [],
   "source": [
    "from sklearn.neighbors import KNeighborsRegressor\n",
    "from sklearn.neural_network import MLPRegressor\n",
    "from sklearn.svm import SVR\n",
    "from sklearn.ensemble import RandomForestRegressor, ExtraTreesRegressor, AdaBoostRegressor\n",
    "from lightgbm import LGBMRegressor\n",
    "from sklearn.linear_model import LogisticRegression\n",
    "from sklearn.linear_model import Ridge, Lasso\n",
    "from sklearn.decomposition import PCA"
   ]
  },
  {
   "cell_type": "code",
   "execution_count": 18,
   "metadata": {},
   "outputs": [],
   "source": [
    "from sklearn.model_selection import GridSearchCV"
   ]
  },
  {
   "cell_type": "code",
   "execution_count": 19,
   "metadata": {},
   "outputs": [],
   "source": [
    "def param_search(model, grid, fe=True, transform_target=True):\n",
    "    gs = GridSearchCV(model, grid, n_jobs=-1, scoring=(rmsle_scorer_exp if transform_target else rmsle_scorer), cv=3)\n",
    "    target = (y_fe if fe else y_be)\n",
    "    gs.fit(X_full_fe if fe else X_full_be , np.log1p(target) if transform_target else target)\n",
    "    print(f\"best score: {gs.best_score_}\")\n",
    "    print(f\"best params: {gs.best_params_}\")\n",
    "    return gs.best_params_\n",
    "    "
   ]
  },
  {
   "cell_type": "code",
   "execution_count": 20,
   "metadata": {},
   "outputs": [
    {
     "name": "stdout",
     "output_type": "stream",
     "text": [
      "best score: -0.09422746032504561\n",
      "best params: {'alpha': 0.0001, 'random_state': 3}\n",
      "best score: -0.048699034134887395\n",
      "best params: {'alpha': 2, 'random_state': 3}\n"
     ]
    }
   ],
   "source": [
    "\n",
    "model = Ridge()\n",
    "grid = {\n",
    "    \"alpha\":[0.0001,0.005,0.01,0.05,0.1,0.5,1,1.5,2,2.5],\n",
    "    \"random_state\": [3]\n",
    "}\n",
    "\n",
    "ridge_params_be = param_search(model, grid, fe=False, transform_target=True)\n",
    "\n",
    "ridge_params_fe = param_search(model, grid, fe=True, transform_target=True)\n"
   ]
  },
  {
   "cell_type": "code",
   "execution_count": 21,
   "metadata": {},
   "outputs": [
    {
     "name": "stdout",
     "output_type": "stream",
     "text": [
      "best score: -0.08842670471149945\n",
      "best params: {'bootstrap': True, 'max_depth': 12, 'n_estimators': 200, 'random_state': 3}\n",
      "best score: -0.02924787537074349\n",
      "best params: {'bootstrap': True, 'max_depth': None, 'n_estimators': 250, 'random_state': 3}\n"
     ]
    }
   ],
   "source": [
    "model = ExtraTreesRegressor()\n",
    "grid = {\n",
    "    \"n_estimators\":[100,150,200,250],\n",
    "    \"max_depth\":[None,10,12,15],\n",
    "    \"bootstrap\":[True, False],\n",
    "    \"random_state\": [3]\n",
    "}\n",
    "\n",
    "et_params_be = param_search(model, grid, fe=False, transform_target=True)\n",
    "et_params_fe = param_search(model, grid, fe=True, transform_target=True)"
   ]
  },
  {
   "cell_type": "code",
   "execution_count": 22,
   "metadata": {},
   "outputs": [],
   "source": [
    "# without the added parameters\n",
    "et_params_fe={'bootstrap': True, 'max_depth': None, 'n_estimators': 250, 'random_state': 3}\n",
    "et_fe = ExtraTreesRegressor(**et_params_fe)\n",
    "params_be = {\"boosting_type\": \"gbdt\",\"max_depth\": 5,\"learning_rate\": 0.12,\"n_estimators\":100,\"num_leaves\": 20}\n",
    "lgbm_be = LGBMRegressor(**params_be)\n",
    "\n",
    "# This is for kaggle\n",
    "#lgbm_be.fit(X_full_be, np.log1p(y_be))\n",
    "#et_fe.fit(X_full_fe, np.log1p(y_fe))\n",
    "# save_results(np.expm1(et_fe.predict(X_full_test_fe)), np.expm1(lgbm_be.predict(X_full_test_be)), \"et_fe + lgbm_be\")"
   ]
  },
  {
   "cell_type": "markdown",
   "metadata": {},
   "source": [
    "## Training 2-level stacking model"
   ]
  },
  {
   "cell_type": "markdown",
   "metadata": {},
   "source": [
    "I selected the best models from \"Parameter tuning\" and previously trained model in the other notebook"
   ]
  },
  {
   "cell_type": "code",
   "execution_count": 23,
   "metadata": {},
   "outputs": [],
   "source": [
    "from mlxtend.regressor import StackingCVRegressor"
   ]
  },
  {
   "cell_type": "code",
   "execution_count": 24,
   "metadata": {},
   "outputs": [],
   "source": [
    "from sklearn.model_selection import train_test_split\n",
    "X_train_fe, X_val_fe, y_train_fe, y_val_fe = train_test_split(X_full_fe, y_fe, train_size=0.2, random_state=1)\n",
    "X_train_be, X_val_be, y_train_be, y_val_be = train_test_split(X_full_be, y_be, train_size=0.2, random_state=1)"
   ]
  },
  {
   "cell_type": "markdown",
   "metadata": {},
   "source": [
    "##### Baseline results for the validation set"
   ]
  },
  {
   "cell_type": "code",
   "execution_count": 25,
   "metadata": {},
   "outputs": [
    {
     "name": "stdout",
     "output_type": "stream",
     "text": [
      "fe rmsle: 0.03395452748503327\n",
      "be rmsle: 0.09719871575692053\n"
     ]
    }
   ],
   "source": [
    "params_be = {\"boosting_type\": \"gbdt\",\n",
    "         \"max_depth\": 5,\n",
    "         \"learning_rate\": 0.12,\n",
    "         \"n_estimators\":100,\n",
    "         \"num_leaves\": 20}\n",
    "lgbm_be = LGBMRegressor(**params_be)\n",
    "\n",
    "params_fe = {\n",
    "    \"boosting_type\": \"gbdt\",\n",
    "    \"max_depth\": 4,\n",
    "    \"learning_rate\": 0.07,\n",
    "    \"n_estimators\":90,\n",
    "    \"num_leaves\": 15}\n",
    "lgbm_fe = LGBMRegressor(**params_fe)\n",
    "\n",
    "lgbm_be.fit(X_train_be, np.log1p(y_train_be))\n",
    "lgbm_fe.fit(X_train_fe, np.log1p(y_train_fe))\n",
    "print(\"fe rmsle:\",rmsle(y_val_fe, np.expm1(lgbm_fe.predict(X_val_fe.values))))\n",
    "print(\"be rmsle:\",rmsle(y_val_be, np.expm1(lgbm_be.predict(X_val_be.values))))"
   ]
  },
  {
   "cell_type": "markdown",
   "metadata": {},
   "source": [
    "#### Formation energy models"
   ]
  },
  {
   "cell_type": "markdown",
   "metadata": {},
   "source": [
    "##### Selecting 1st level models"
   ]
  },
  {
   "cell_type": "code",
   "execution_count": 26,
   "metadata": {},
   "outputs": [],
   "source": [
    "rf_fe = RandomForestRegressor(\n",
    "    criterion='mse', \n",
    "    n_estimators=1000, \n",
    "    max_depth=35, \n",
    "    min_samples_split=4, \n",
    "    random_state=1)\n",
    "\n",
    "mlp_fe = MLPRegressor(\n",
    "    activation=\"relu\", \n",
    "    solver=\"lbfgs\", \n",
    "    learning_rate=\"invscaling\", \n",
    "    hidden_layer_sizes=(50, 50))\n",
    "\n",
    "knn_fe = KNeighborsRegressor(\n",
    "    n_neighbors=5, \n",
    "    weights='uniform', \n",
    "    metric='manhattan')\n",
    "\n",
    "params_fe = {\n",
    "    \"boosting_type\": \"gbdt\",\n",
    "    \"max_depth\": 4,\n",
    "    \"learning_rate\": 0.07,\n",
    "    \"n_estimators\":60,\n",
    "    \"num_leaves\": 15}\n",
    "\n",
    "et_params_fe={'bootstrap': True, \n",
    "              'max_depth': None, \n",
    "              'n_estimators': 250, \n",
    "              'random_state': 3}\n",
    "et_fe = ExtraTreesRegressor(**et_params_fe)\n",
    "\n",
    "\n",
    "lgbm_fe = LGBMRegressor(**params_fe)"
   ]
  },
  {
   "cell_type": "code",
   "execution_count": 27,
   "metadata": {},
   "outputs": [],
   "source": [
    "clf_fe =  [rf_fe, mlp_fe, knn_fe, lgbm_fe, et_fe]"
   ]
  },
  {
   "cell_type": "code",
   "execution_count": 28,
   "metadata": {},
   "outputs": [],
   "source": [
    "meta_fe = Ridge()"
   ]
  },
  {
   "cell_type": "code",
   "execution_count": 29,
   "metadata": {},
   "outputs": [],
   "source": [
    "stack_fe = StackingCVRegressor(regressors=clf_fe,meta_regressor=meta_fe, n_jobs=-1, random_state=3, cv=3)"
   ]
  },
  {
   "cell_type": "code",
   "execution_count": 30,
   "metadata": {},
   "outputs": [
    {
     "name": "stdout",
     "output_type": "stream",
     "text": [
      "validation set score: 0.03309940408612033\n",
      "CV score: 0.029774724304737717\n"
     ]
    }
   ],
   "source": [
    "stack_fe.fit(X_train_fe.values, y_train_fe.values)\n",
    "print(\"validation set score:\",rmsle(y_val_fe, stack_fe.predict(X_val_fe.values)))\n",
    "print(\"CV score:\",evaluate_CV(stack_fe, X_full_fe.values, np.log1p(y_fe.values), metric=rmsle_scorer_exp))"
   ]
  },
  {
   "cell_type": "markdown",
   "metadata": {},
   "source": [
    "Stacking gives satisfactory results (higher than baseline) for FE, but it is not as good as ExtraTrees."
   ]
  },
  {
   "cell_type": "markdown",
   "metadata": {},
   "source": [
    "#### Bandgap energy classifiers"
   ]
  },
  {
   "cell_type": "markdown",
   "metadata": {},
   "source": [
    "##### Selecting 1st level models"
   ]
  },
  {
   "cell_type": "code",
   "execution_count": 31,
   "metadata": {},
   "outputs": [],
   "source": [
    "mlp_be = MLPRegressor(\n",
    "    activation=\"tanh\", \n",
    "    solver=\"lbfgs\", \n",
    "    learning_rate=\"invscaling\", \n",
    "    hidden_layer_sizes=(50, 100, 50))\n",
    "\n",
    "svr_be = SVR(kernel=\"poly\", gamma=\"scale\")\n",
    "\n",
    "params_be = {\"boosting_type\": \"gbdt\",\n",
    "         \"max_depth\": 5,\n",
    "         \"learning_rate\": 0.12,\n",
    "         \"n_estimators\":100,\n",
    "         \"num_leaves\": 20}\n",
    "\n",
    "lgbm_be = LGBMRegressor(**params_be)\n",
    "\n",
    "rf_be = RandomForestRegressor(criterion='mse', n_estimators=850, max_depth=30, min_samples_split=6, random_state=1)\n",
    "\n",
    "clf_be = [mlp_be, svr_be, lgbm_be, rf_be]"
   ]
  },
  {
   "cell_type": "markdown",
   "metadata": {},
   "source": [
    "##### Selecting meta-classifier"
   ]
  },
  {
   "cell_type": "code",
   "execution_count": 32,
   "metadata": {},
   "outputs": [],
   "source": [
    "meta_be = Ridge()"
   ]
  },
  {
   "cell_type": "markdown",
   "metadata": {},
   "source": [
    "##### Training the model"
   ]
  },
  {
   "cell_type": "code",
   "execution_count": 33,
   "metadata": {},
   "outputs": [],
   "source": [
    "stack_be = StackingCVRegressor(regressors=clf_be, meta_regressor=meta_be, random_state=3, n_jobs=-1)"
   ]
  },
  {
   "cell_type": "code",
   "execution_count": 34,
   "metadata": {},
   "outputs": [
    {
     "name": "stdout",
     "output_type": "stream",
     "text": [
      "validation set score 0.09135113099848195\n",
      "CV score: 0.04825373750606044\n"
     ]
    }
   ],
   "source": [
    "stack_be.fit(X_train_be.values, y_train_be.values)\n",
    "print(\"validation set score\", rmsle(y_val_be, stack_be.predict(X_val_be.values)))\n",
    "print(\"CV score:\", evaluate_CV(stack_be, X_full_be.values, np.log1p(y_be.values), metric=rmsle_scorer))"
   ]
  },
  {
   "cell_type": "markdown",
   "metadata": {},
   "source": [
    "Stacking for Bandcap energy surpasses our baseline and it will be used in the final model"
   ]
  },
  {
   "cell_type": "markdown",
   "metadata": {},
   "source": [
    "## Conclusion"
   ]
  },
  {
   "cell_type": "markdown",
   "metadata": {},
   "source": [
    "The final model for formation energy prediction is ExtraTrees and for bandgap energy LightGBM."
   ]
  },
  {
   "cell_type": "code",
   "execution_count": 35,
   "metadata": {},
   "outputs": [
    {
     "name": "stdout",
     "output_type": "stream",
     "text": [
      "ExtraTrees CV error: 0.029422450328958034\n",
      "Stacked model CV error: 0.20538484953234287\n"
     ]
    }
   ],
   "source": [
    "et_params_fe={'bootstrap': True, 'max_depth': None, 'n_estimators': 250, 'random_state': 3}\n",
    "et_fe = ExtraTreesRegressor(**et_params_fe)\n",
    "\n",
    "\n",
    "print(\"ExtraTrees CV error:\", evaluate_CV(et_fe, X_full_fe.values, np.log1p(y_fe.values), metric=rmsle_scorer_exp))\n",
    "print(\"Stacked model CV error:\", evaluate_CV(stack_be, X_full_be.values, y_be.values, metric=rmsle_scorer_exp))"
   ]
  },
  {
   "cell_type": "code",
   "execution_count": 36,
   "metadata": {
    "jupyter": {
     "source_hidden": true
    }
   },
   "outputs": [],
   "source": [
    "# Submission to kaggle\n",
    "#et_params_fe={'bootstrap': True, 'max_depth': None, 'n_estimators': 250, 'random_state': 3}\n",
    "#et_fe = ExtraTreesRegressor(**et_params_fe)\n",
    "\n",
    "#stack_be.fit(X_full_be.values, np.log1p(y_be.values))\n",
    "#et_fe.fit(X_full_fe, np.log1p(y_fe))\n",
    "\n",
    "# saving the result\n",
    "#save_results(np.expm1(et_fe.predict(X_full_test_fe)), np.expm1(stack_be.predict(X_full_test_be)), \"et_fe + stack_be log 2\")"
   ]
  },
  {
   "cell_type": "markdown",
   "metadata": {},
   "source": [
    "The private score in Kaggle from this model is **0.06376** (would be 61st on the [leaderboards](https://www.kaggle.com/c/nomad2018-predict-transparent-conductors/leaderboard))."
   ]
  },
  {
   "cell_type": "markdown",
   "metadata": {},
   "source": [
    "### Feature importances"
   ]
  },
  {
   "cell_type": "markdown",
   "metadata": {},
   "source": [
    "#### Formation energy"
   ]
  },
  {
   "cell_type": "code",
   "execution_count": 38,
   "metadata": {},
   "outputs": [
    {
     "data": {
      "text/html": [
       "<div>\n",
       "<style scoped>\n",
       "    .dataframe tbody tr th:only-of-type {\n",
       "        vertical-align: middle;\n",
       "    }\n",
       "\n",
       "    .dataframe tbody tr th {\n",
       "        vertical-align: top;\n",
       "    }\n",
       "\n",
       "    .dataframe thead th {\n",
       "        text-align: right;\n",
       "    }\n",
       "</style>\n",
       "<table border=\"1\" class=\"dataframe\">\n",
       "  <thead>\n",
       "    <tr style=\"text-align: right;\">\n",
       "      <th></th>\n",
       "      <th>column</th>\n",
       "      <th>importance</th>\n",
       "    </tr>\n",
       "  </thead>\n",
       "  <tbody>\n",
       "    <tr>\n",
       "      <td>1</td>\n",
       "      <td>number_of_total_atoms</td>\n",
       "      <td>0.031122</td>\n",
       "    </tr>\n",
       "    <tr>\n",
       "      <td>10</td>\n",
       "      <td>lattice_angle_gamma_degree</td>\n",
       "      <td>0.036451</td>\n",
       "    </tr>\n",
       "    <tr>\n",
       "      <td>6</td>\n",
       "      <td>lattice_vector_2_ang</td>\n",
       "      <td>0.042387</td>\n",
       "    </tr>\n",
       "    <tr>\n",
       "      <td>4</td>\n",
       "      <td>percent_atom_in</td>\n",
       "      <td>0.043849</td>\n",
       "    </tr>\n",
       "    <tr>\n",
       "      <td>33</td>\n",
       "      <td>xEq</td>\n",
       "      <td>0.053914</td>\n",
       "    </tr>\n",
       "    <tr>\n",
       "      <td>31</td>\n",
       "      <td>qIn</td>\n",
       "      <td>0.076922</td>\n",
       "    </tr>\n",
       "    <tr>\n",
       "      <td>25</td>\n",
       "      <td>distInAl</td>\n",
       "      <td>0.095190</td>\n",
       "    </tr>\n",
       "    <tr>\n",
       "      <td>20</td>\n",
       "      <td>distAlIn</td>\n",
       "      <td>0.097878</td>\n",
       "    </tr>\n",
       "    <tr>\n",
       "      <td>0</td>\n",
       "      <td>spacegroup</td>\n",
       "      <td>0.100056</td>\n",
       "    </tr>\n",
       "    <tr>\n",
       "      <td>7</td>\n",
       "      <td>lattice_vector_3_ang</td>\n",
       "      <td>0.145287</td>\n",
       "    </tr>\n",
       "  </tbody>\n",
       "</table>\n",
       "</div>"
      ],
      "text/plain": [
       "                        column  importance\n",
       "1        number_of_total_atoms    0.031122\n",
       "10  lattice_angle_gamma_degree    0.036451\n",
       "6         lattice_vector_2_ang    0.042387\n",
       "4              percent_atom_in    0.043849\n",
       "33                         xEq    0.053914\n",
       "31                         qIn    0.076922\n",
       "25                    distInAl    0.095190\n",
       "20                    distAlIn    0.097878\n",
       "0                   spacegroup    0.100056\n",
       "7         lattice_vector_3_ang    0.145287"
      ]
     },
     "execution_count": 38,
     "metadata": {},
     "output_type": "execute_result"
    }
   ],
   "source": [
    "et_fe.fit(X_full_fe, np.log1p(y_fe))\n",
    "et_fe.feature_importances_\n",
    "pd.DataFrame({\"column\":X_full_fe.columns, \"importance\":et_fe.feature_importances_}).sort_values(by=\"importance\").tail(10)"
   ]
  },
  {
   "cell_type": "markdown",
   "metadata": {},
   "source": [
    "#### Bandgap energy"
   ]
  },
  {
   "cell_type": "code",
   "execution_count": 39,
   "metadata": {},
   "outputs": [
    {
     "data": {
      "text/html": [
       "<div>\n",
       "<style scoped>\n",
       "    .dataframe tbody tr th:only-of-type {\n",
       "        vertical-align: middle;\n",
       "    }\n",
       "\n",
       "    .dataframe tbody tr th {\n",
       "        vertical-align: top;\n",
       "    }\n",
       "\n",
       "    .dataframe thead th {\n",
       "        text-align: right;\n",
       "    }\n",
       "</style>\n",
       "<table border=\"1\" class=\"dataframe\">\n",
       "  <thead>\n",
       "    <tr style=\"text-align: right;\">\n",
       "      <th></th>\n",
       "      <th>column</th>\n",
       "      <th>importance</th>\n",
       "    </tr>\n",
       "  </thead>\n",
       "  <tbody>\n",
       "    <tr>\n",
       "      <td>17</td>\n",
       "      <td>cInAl</td>\n",
       "      <td>0.009422</td>\n",
       "    </tr>\n",
       "    <tr>\n",
       "      <td>19</td>\n",
       "      <td>cInO</td>\n",
       "      <td>0.009679</td>\n",
       "    </tr>\n",
       "    <tr>\n",
       "      <td>6</td>\n",
       "      <td>lattice_vector_2_ang</td>\n",
       "      <td>0.012842</td>\n",
       "    </tr>\n",
       "    <tr>\n",
       "      <td>10</td>\n",
       "      <td>lattice_angle_gamma_degree</td>\n",
       "      <td>0.015131</td>\n",
       "    </tr>\n",
       "    <tr>\n",
       "      <td>0</td>\n",
       "      <td>spacegroup</td>\n",
       "      <td>0.024488</td>\n",
       "    </tr>\n",
       "    <tr>\n",
       "      <td>7</td>\n",
       "      <td>lattice_vector_3_ang</td>\n",
       "      <td>0.037227</td>\n",
       "    </tr>\n",
       "    <tr>\n",
       "      <td>32</td>\n",
       "      <td>qIn</td>\n",
       "      <td>0.056695</td>\n",
       "    </tr>\n",
       "    <tr>\n",
       "      <td>2</td>\n",
       "      <td>percent_atom_al</td>\n",
       "      <td>0.102718</td>\n",
       "    </tr>\n",
       "    <tr>\n",
       "      <td>4</td>\n",
       "      <td>percent_atom_in</td>\n",
       "      <td>0.197466</td>\n",
       "    </tr>\n",
       "    <tr>\n",
       "      <td>11</td>\n",
       "      <td>Vatom</td>\n",
       "      <td>0.444809</td>\n",
       "    </tr>\n",
       "  </tbody>\n",
       "</table>\n",
       "</div>"
      ],
      "text/plain": [
       "                        column  importance\n",
       "17                       cInAl    0.009422\n",
       "19                        cInO    0.009679\n",
       "6         lattice_vector_2_ang    0.012842\n",
       "10  lattice_angle_gamma_degree    0.015131\n",
       "0                   spacegroup    0.024488\n",
       "7         lattice_vector_3_ang    0.037227\n",
       "32                         qIn    0.056695\n",
       "2              percent_atom_al    0.102718\n",
       "4              percent_atom_in    0.197466\n",
       "11                       Vatom    0.444809"
      ]
     },
     "execution_count": 39,
     "metadata": {},
     "output_type": "execute_result"
    }
   ],
   "source": [
    "et_be = ExtraTreesRegressor(**{'bootstrap': True, 'max_depth': 12, 'n_estimators': 200, 'random_state': 3})\n",
    "et_be.fit(X_full_be, np.log1p(y_be))\n",
    "pd.DataFrame({\"column\":X_full_be.columns, \"importance\":et_be.feature_importances_}).sort_values(by=\"importance\").tail(10)"
   ]
  },
  {
   "cell_type": "markdown",
   "metadata": {},
   "source": [
    "The engineered features had a significant impact on the model"
   ]
  },
  {
   "cell_type": "markdown",
   "metadata": {},
   "source": [
    "### Visualizing performance of models\n",
    "Commenting out calculation of CV scorest (takes too long). Loading precalculated results from csv instead."
   ]
  },
  {
   "cell_type": "code",
   "execution_count": 41,
   "metadata": {
    "collapsed": true,
    "jupyter": {
     "outputs_hidden": true,
     "source_hidden": true
    }
   },
   "outputs": [
    {
     "data": {
      "text/plain": [
       "'\\n\\nmlp_be = MLPRegressor(\\n    activation=\"tanh\", \\n    solver=\"lbfgs\", \\n    learning_rate=\"invscaling\", \\n    hidden_layer_sizes=(50, 100, 50))\\n\\nsvr_be = SVR(kernel=\"poly\", gamma=\"scale\")\\n\\nlgbm_be = LGBMRegressor(**{\"boosting_type\": \"gbdt\",\\n         \"max_depth\": 5,\\n         \"learning_rate\": 0.12,\\n         \"n_estimators\":100,\\n         \"num_leaves\": 20})\\n\\nrf_be = RandomForestRegressor(criterion=\\'mse\\', n_estimators=850, max_depth=30, min_samples_split=6, random_state=1)\\n\\net_be = ExtraTreesRegressor(**{\\'bootstrap\\': True, \\'max_depth\\': 12, \\'n_estimators\\': 200, \\'random_state\\': 3})\\n\\nparams_be = {\"boosting_type\": \"gbdt\",\"max_depth\": 5,\"learning_rate\": 0.12,\"n_estimators\":100,\"num_leaves\": 20}\\n\\nresults_df_be = pd.DataFrame(columns=[\"Model\", \"CV RMSLE\"])\\n\\nfor name, model in {\"Multi-Layer Perceptron\": mlp_be, \"SVR\": svr_be, \"LightGBM\": lgbm_be, \"ExtraTrees\":et_be, \"RandomForest\":rf_be, \"Stacked Model\": stack_be}.items():\\n\\n    results_df_be = results_df_be.append({\\'Model\\': name, \\'CV RMSLE\\': evaluate_CV(model, X_full_be.values, np.log1p(y_be.values), metric=rmsle_scorer_exp)}, ignore_index = True)\\n'"
      ]
     },
     "execution_count": 41,
     "metadata": {},
     "output_type": "execute_result"
    }
   ],
   "source": [
    "# commenting out for faster excecution\n",
    "\"\"\"\n",
    "\n",
    "mlp_be = MLPRegressor(\n",
    "    activation=\"tanh\", \n",
    "    solver=\"lbfgs\", \n",
    "    learning_rate=\"invscaling\", \n",
    "    hidden_layer_sizes=(50, 100, 50))\n",
    "\n",
    "svr_be = SVR(kernel=\"poly\", gamma=\"scale\")\n",
    "\n",
    "lgbm_be = LGBMRegressor(**{\"boosting_type\": \"gbdt\",\n",
    "         \"max_depth\": 5,\n",
    "         \"learning_rate\": 0.12,\n",
    "         \"n_estimators\":100,\n",
    "         \"num_leaves\": 20})\n",
    "\n",
    "rf_be = RandomForestRegressor(criterion='mse', n_estimators=850, max_depth=30, min_samples_split=6, random_state=1)\n",
    "\n",
    "et_be = ExtraTreesRegressor(**{'bootstrap': True, 'max_depth': 12, 'n_estimators': 200, 'random_state': 3})\n",
    "\n",
    "params_be = {\"boosting_type\": \"gbdt\",\"max_depth\": 5,\"learning_rate\": 0.12,\"n_estimators\":100,\"num_leaves\": 20}\n",
    "\n",
    "results_df_be = pd.DataFrame(columns=[\"Model\", \"CV RMSLE\"])\n",
    "\n",
    "for name, model in {\"Multi-Layer Perceptron\": mlp_be, \"SVR\": svr_be, \"LightGBM\": lgbm_be, \"ExtraTrees\":et_be, \"RandomForest\":rf_be, \"Stacked Model\": stack_be}.items():\n",
    "\n",
    "    results_df_be = results_df_be.append({'Model': name, 'CV RMSLE': evaluate_CV(model, X_full_be.values, np.log1p(y_be.values), metric=rmsle_scorer_exp)}, ignore_index = True)\n",
    "\"\"\"\n"
   ]
  },
  {
   "cell_type": "code",
   "execution_count": 42,
   "metadata": {
    "collapsed": true,
    "jupyter": {
     "outputs_hidden": true,
     "source_hidden": true
    }
   },
   "outputs": [
    {
     "data": {
      "text/plain": [
       "'\\nimport pandas as pd\\nfrom matplotlib.pyplot import *\\n\\nfig, ax = subplots()\\nresults_df_be.sort_values(by=\"CV RMSLE\").plot.barh(x=\\'Model\\', y=\\'CV RMSLE\\', ax=ax)\\nax.set_xlabel(\"RMSLE\")\\nax.legend().remove()\\n#plt.savefig(\"be_models.png\", dpi=800,bbox_inches=\"tight\")\\n'"
      ]
     },
     "execution_count": 42,
     "metadata": {},
     "output_type": "execute_result"
    }
   ],
   "source": [
    "\"\"\"\n",
    "import pandas as pd\n",
    "from matplotlib.pyplot import *\n",
    "\n",
    "fig, ax = subplots()\n",
    "results_df_be.sort_values(by=\"CV RMSLE\").plot.barh(x='Model', y='CV RMSLE', ax=ax)\n",
    "ax.set_xlabel(\"RMSLE\")\n",
    "ax.legend().remove()\n",
    "#plt.savefig(\"be_models.png\", dpi=800,bbox_inches=\"tight\")\n",
    "\"\"\""
   ]
  },
  {
   "cell_type": "code",
   "execution_count": 43,
   "metadata": {
    "collapsed": true,
    "jupyter": {
     "outputs_hidden": true,
     "source_hidden": true
    }
   },
   "outputs": [
    {
     "data": {
      "text/plain": [
       "'\\nrf_fe = RandomForestRegressor(\\n    criterion=\\'mse\\', \\n    n_estimators=1000, \\n    max_depth=35, \\n    min_samples_split=4, \\n    random_state=1)\\n\\nmlp_fe = MLPRegressor(\\n    activation=\"relu\", \\n    solver=\"lbfgs\", \\n    learning_rate=\"invscaling\", \\n    hidden_layer_sizes=(50, 50))\\n\\nknn_fe = KNeighborsRegressor(\\n    n_neighbors=5, \\n    weights=\\'uniform\\', \\n    metric=\\'manhattan\\')\\n\\n\\net_fe = ExtraTreesRegressor(**{\\n    \\'bootstrap\\': True, \\n    \\'max_depth\\': None, \\n    \\'n_estimators\\': 250, \\n    \\'random_state\\': 3})\\n\\nlgbm_fe = LGBMRegressor(**{\\n    \"boosting_type\": \"gbdt\",\\n    \"max_depth\": 4,\\n    \"learning_rate\": 0.07,\\n    \"n_estimators\":60,\\n    \"num_leaves\": 15})\\n\\nresults_df_fe = pd.DataFrame(columns=[\"Model\", \"CV RMSLE\"])\\n\\nfor name, model in {\"Multi-Layer Perceptron\": mlp_fe, \"KNN\": knn_fe, \"LightGBM\": lgbm_fe, \"ExtraTrees\":et_fe, \"RandomForest\":rf_fe, \"Stacked Model\": stack_fe}.items():\\n\\n    results_df_fe = results_df_fe.append({\\'Model\\': name, \\'CV RMSLE\\': evaluate_CV(model, X_full_fe.values, np.log1p(y_fe.values), metric=rmsle_scorer_exp)}, ignore_index = True)\\n\\n'"
      ]
     },
     "execution_count": 43,
     "metadata": {},
     "output_type": "execute_result"
    }
   ],
   "source": [
    "\"\"\"\n",
    "rf_fe = RandomForestRegressor(\n",
    "    criterion='mse', \n",
    "    n_estimators=1000, \n",
    "    max_depth=35, \n",
    "    min_samples_split=4, \n",
    "    random_state=1)\n",
    "\n",
    "mlp_fe = MLPRegressor(\n",
    "    activation=\"relu\", \n",
    "    solver=\"lbfgs\", \n",
    "    learning_rate=\"invscaling\", \n",
    "    hidden_layer_sizes=(50, 50))\n",
    "\n",
    "knn_fe = KNeighborsRegressor(\n",
    "    n_neighbors=5, \n",
    "    weights='uniform', \n",
    "    metric='manhattan')\n",
    "\n",
    "\n",
    "et_fe = ExtraTreesRegressor(**{\n",
    "    'bootstrap': True, \n",
    "    'max_depth': None, \n",
    "    'n_estimators': 250, \n",
    "    'random_state': 3})\n",
    "\n",
    "lgbm_fe = LGBMRegressor(**{\n",
    "    \"boosting_type\": \"gbdt\",\n",
    "    \"max_depth\": 4,\n",
    "    \"learning_rate\": 0.07,\n",
    "    \"n_estimators\":60,\n",
    "    \"num_leaves\": 15})\n",
    "\n",
    "results_df_fe = pd.DataFrame(columns=[\"Model\", \"CV RMSLE\"])\n",
    "\n",
    "for name, model in {\"Multi-Layer Perceptron\": mlp_fe, \"KNN\": knn_fe, \"LightGBM\": lgbm_fe, \"ExtraTrees\":et_fe, \"RandomForest\":rf_fe, \"Stacked Model\": stack_fe}.items():\n",
    "\n",
    "    results_df_fe = results_df_fe.append({'Model': name, 'CV RMSLE': evaluate_CV(model, X_full_fe.values, np.log1p(y_fe.values), metric=rmsle_scorer_exp)}, ignore_index = True)\n",
    "\n",
    "\"\"\""
   ]
  },
  {
   "cell_type": "code",
   "execution_count": 44,
   "metadata": {
    "jupyter": {
     "source_hidden": true
    }
   },
   "outputs": [],
   "source": [
    "#results_df_fe.to_csv(\"models_fe.csv\")"
   ]
  },
  {
   "cell_type": "code",
   "execution_count": 45,
   "metadata": {
    "collapsed": true,
    "jupyter": {
     "outputs_hidden": true,
     "source_hidden": true
    }
   },
   "outputs": [
    {
     "data": {
      "text/plain": [
       "'\\nimport pandas as pd\\nfrom matplotlib.pyplot import *\\n\\nfig, ax = subplots()\\nresults_df_fe.sort_values(by=\"CV RMSLE\").plot.barh(x=\\'Model\\', y=\\'CV RMSLE\\', ax=ax)\\nax.set_xlabel(\"RMSLE\")\\nax.legend().remove()\\n#plt.savefig(\"fe_models.png\", dpi=800,bbox_inches=\"tight\")\\n'"
      ]
     },
     "execution_count": 45,
     "metadata": {},
     "output_type": "execute_result"
    }
   ],
   "source": [
    "\"\"\"\n",
    "import pandas as pd\n",
    "from matplotlib.pyplot import *\n",
    "\n",
    "fig, ax = subplots()\n",
    "results_df_fe.sort_values(by=\"CV RMSLE\").plot.barh(x='Model', y='CV RMSLE', ax=ax)\n",
    "ax.set_xlabel(\"RMSLE\")\n",
    "ax.legend().remove()\n",
    "#plt.savefig(\"fe_models.png\", dpi=800,bbox_inches=\"tight\")\n",
    "\"\"\""
   ]
  },
  {
   "cell_type": "code",
   "execution_count": 46,
   "metadata": {
    "collapsed": true,
    "jupyter": {
     "outputs_hidden": true,
     "source_hidden": true
    }
   },
   "outputs": [
    {
     "data": {
      "text/plain": [
       "'\\nsvr_fe = SVR(kernel=\"poly\", gamma=\"scale\")\\nknn_be = KNeighborsRegressor(n_neighbors=5, weights=\\'distance\\', metric=\\'manhattan\\')\\n\\nnew = pd.merge(results_df_be, results_df_fe, how=\"outer\", on=\"Model\")\\nnew.rename(columns={\"CV RMSLE_x\":\"Bandcap Energy\",\"CV RMSLE_y\":\"Formation Energy\"}, inplace=True)\\nnew.set_value(1, \"Formation Energy\", evaluate_CV(svr_fe, X_full_fe.values, np.log1p(y_fe.values), metric=rmsle_scorer_exp))\\nnew.set_value(6, \"Bandcap Energy\", evaluate_CV(knn_be, X_full_be.values, np.log1p(y_be.values), metric=rmsle_scorer_exp))\\nnew.to_csv(\"results.csv\")             \\n'"
      ]
     },
     "execution_count": 46,
     "metadata": {},
     "output_type": "execute_result"
    }
   ],
   "source": [
    "\"\"\"\n",
    "svr_fe = SVR(kernel=\"poly\", gamma=\"scale\")\n",
    "knn_be = KNeighborsRegressor(n_neighbors=5, weights='distance', metric='manhattan')\n",
    "\n",
    "new = pd.merge(results_df_be, results_df_fe, how=\"outer\", on=\"Model\")\n",
    "new.rename(columns={\"CV RMSLE_x\":\"Bandcap Energy\",\"CV RMSLE_y\":\"Formation Energy\"}, inplace=True)\n",
    "new.set_value(1, \"Formation Energy\", evaluate_CV(svr_fe, X_full_fe.values, np.log1p(y_fe.values), metric=rmsle_scorer_exp))\n",
    "new.set_value(6, \"Bandcap Energy\", evaluate_CV(knn_be, X_full_be.values, np.log1p(y_be.values), metric=rmsle_scorer_exp))\n",
    "new.to_csv(\"results.csv\")             \n",
    "\"\"\""
   ]
  },
  {
   "cell_type": "code",
   "execution_count": 47,
   "metadata": {},
   "outputs": [
    {
     "data": {
      "image/png": "[encoded data removed]",
      "text/plain": [
       "<Figure size 432x288 with 1 Axes>"
      ]
     },
     "metadata": {
      "needs_background": "light"
     },
     "output_type": "display_data"
    }
   ],
   "source": [
    "import pandas as pd\n",
    "from matplotlib.pyplot import *\n",
    "\n",
    "new = pd.read_csv(\"results.csv\", delimiter=\",\").drop(\"Unnamed: 0\", axis=1)\n",
    "\n",
    "fig, ax = subplots()\n",
    "new.sort_values(by=\"Bandcap Energy\").plot.barh(x='Model', ax=ax)\n",
    "ax.set_xlabel(\"RMSLE\")\n",
    "ax.set_ylabel(\"\")\n",
    "ax.legend( bbox_to_anchor=(0.9, -0.15), ncol=2)\n",
    "plt.savefig(\"models.png\", dpi=800,bbox_inches=\"tight\")"
   ]
  }
 ],
 "metadata": {
  "kernelspec": {
   "display_name": "Python 3",
   "language": "python",
   "name": "python3"
  },
  "language_info": {
   "codemirror_mode": {
    "name": "ipython",
    "version": 3
   },
   "file_extension": ".py",
   "mimetype": "text/x-python",
   "name": "python",
   "nbconvert_exporter": "python",
   "pygments_lexer": "ipython3",
   "version": "3.6.5"
  }
 },
 "nbformat": 4,
 "nbformat_minor": 4
}
