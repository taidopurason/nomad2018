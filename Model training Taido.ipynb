{
 "cells": [
  {
   "cell_type": "code",
   "execution_count": 19,
   "metadata": {},
   "outputs": [],
   "source": [
    "%run helper_functions.ipynb"
   ]
  },
  {
   "cell_type": "code",
   "execution_count": 2,
   "metadata": {},
   "outputs": [],
   "source": [
    "rs = 3"
   ]
  },
  {
   "cell_type": "code",
   "execution_count": 4,
   "metadata": {},
   "outputs": [],
   "source": [
    "from sklearn.model_selection import train_test_split\n",
    "\n",
    "X_enc = encode_spacegroup(X)\n",
    "X_tr, X_te, y_fe_tr, y_fe_te, y_be_tr, y_be_te = train_test_split(X, y_fe, y_be, test_size=0.1, random_state=rs)"
   ]
  },
  {
   "cell_type": "code",
   "execution_count": 25,
   "metadata": {},
   "outputs": [
    {
     "name": "stdout",
     "output_type": "stream",
     "text": [
      "train error: 0.020472739725743323\n",
      "test error: 0.03392325322249663\n",
      "0.035309809022130184\n"
     ]
    }
   ],
   "source": [
    "from sklearn.ensemble import RandomForestRegressor\n",
    "rfr = RandomForestRegressor(n_estimators=150, random_state=rs).fit(X_tr, np.log1p(y_fe_tr))\n",
    "#  root mean squared logarithmic error is used for evaluation\n",
    "print(\"train error:\", rmsle(y_fe_tr, np.expm1(rfr.predict(X_tr))))\n",
    "print(\"test error:\", rmsle(y_fe_te, np.expm1(rfr.predict(X_te))) )\n",
    "print(evaluate_CV(RandomForestRegressor(n_estimators=150, random_state=rs), X, np.log1p(y_fe), metric=rmsle_scorer_exp))\n"
   ]
  },
  {
   "cell_type": "code",
   "execution_count": 5,
   "metadata": {},
   "outputs": [
    {
     "name": "stdout",
     "output_type": "stream",
     "text": [
      "train error: 0.020508794074854817\n",
      "test error: 0.033861683665618515\n",
      "0.0353964309481999\n"
     ]
    }
   ],
   "source": [
    "rfr = RandomForestRegressor(n_estimators=150, random_state=rs).fit(X_tr, y_fe_tr)\n",
    "#  root mean squared logarithmic error is used for evaluation\n",
    "print(\"train error:\", rmsle(y_fe_tr, rfr.predict(X_tr)))\n",
    "print(\"test error:\", rmsle(y_fe_te, rfr.predict(X_te)) )\n",
    "print(evaluate_CV(RandomForestRegressor(n_estimators=150, random_state=rs), X, y_fe))"
   ]
  },
  {
   "cell_type": "code",
   "execution_count": 26,
   "metadata": {},
   "outputs": [
    {
     "name": "stdout",
     "output_type": "stream",
     "text": [
      "0.03542969832342239\n"
     ]
    }
   ],
   "source": [
    "rfr = RandomForestRegressor(n_estimators=150, random_state=rs)\n",
    "print(evaluate_CV(RandomForestRegressor(n_estimators=150, random_state=1), X_enc, y_fe))"
   ]
  },
  {
   "cell_type": "code",
   "execution_count": 7,
   "metadata": {},
   "outputs": [
    {
     "name": "stdout",
     "output_type": "stream",
     "text": [
      "0.03538196469063558\n"
     ]
    }
   ],
   "source": [
    "print(evaluate_CV(rfr, X_enc, np.log1p(y_fe), metric=rmsle_scorer_exp))"
   ]
  },
  {
   "cell_type": "code",
   "execution_count": 31,
   "metadata": {},
   "outputs": [
    {
     "name": "stdout",
     "output_type": "stream",
     "text": [
      "0.03145230650348981\n"
     ]
    }
   ],
   "source": [
    "rfr = RandomForestRegressor(n_estimators=150, random_state=rs)\n",
    "print(evaluate_CV(rfr, X_full, y_fe, metric=rmsle_scorer))"
   ]
  },
  {
   "cell_type": "markdown",
   "metadata": {},
   "source": [
    "### LGBM"
   ]
  },
  {
   "cell_type": "code",
   "execution_count": 9,
   "metadata": {},
   "outputs": [],
   "source": [
    "from lightgbm import LGBMRegressor"
   ]
  },
  {
   "cell_type": "code",
   "execution_count": 11,
   "metadata": {},
   "outputs": [
    {
     "name": "stdout",
     "output_type": "stream",
     "text": [
      "0.03210486610010572\n",
      "0.032119554508860365\n"
     ]
    }
   ],
   "source": [
    "params_fe = {\"boosting_type\": \"gbdt\",\n",
    "         \"max_depth\": 4,\n",
    "         \"learning_rate\": 0.07,\n",
    "         \"n_estimators\":90,\n",
    "         \"num_leaves\": 15}\n",
    "lgbm_fe = LGBMRegressor(**params_fe)\n",
    "print(evaluate_CV(lgbm_fe, X, y_fe))\n",
    "print(evaluate_CV(lgbm_fe, X, np.log1p(y_fe), metric=rmsle_scorer_exp))"
   ]
  },
  {
   "cell_type": "code",
   "execution_count": 29,
   "metadata": {},
   "outputs": [
    {
     "name": "stdout",
     "output_type": "stream",
     "text": [
      "0.03133936239238787\n",
      "0.03109291256027912\n"
     ]
    }
   ],
   "source": [
    "\n",
    "print(evaluate_CV(lgbm_fe, X_full, y_fe))\n",
    "print(evaluate_CV(lgbm_fe, X_full, np.log1p(y_fe), metric=rmsle_scorer_exp))"
   ]
  },
  {
   "cell_type": "code",
   "execution_count": 12,
   "metadata": {},
   "outputs": [
    {
     "name": "stdout",
     "output_type": "stream",
     "text": [
      "0.08823940125862285\n",
      "0.08913747228840521\n"
     ]
    }
   ],
   "source": [
    "params_be = {\"boosting_type\": \"gbdt\",\n",
    "         \"max_depth\": 5,\n",
    "         \"learning_rate\": 0.12,\n",
    "         \"n_estimators\":90,\n",
    "         \"num_leaves\": 15}\n",
    "lgbm_be = LGBMRegressor(**params_be)\n",
    "print(evaluate_CV(lgbm_be, X, y_be))\n",
    "print(evaluate_CV(lgbm_be, X, np.log1p(y_be), metric=rmsle_scorer_exp))"
   ]
  },
  {
   "cell_type": "code",
   "execution_count": 18,
   "metadata": {},
   "outputs": [],
   "source": [
    "lgbm_be.fit(X_full, y_be)\n",
    "lgbm_fe.fit(X_full, y_fe)\n",
    "test_X_enc = encode_spacegroup(test_X)\n",
    "lgbm_be.fit(X_enc, y_be)\n",
    "lgbm_fe.fit(X_enc, y_fe)\n",
    "save_results(lgbm_fe.predict(test_X_enc), lgbm_be.predict(test_X_enc), \"lgbm encoded spacegroup\")"
   ]
  },
  {
   "cell_type": "code",
   "execution_count": 16,
   "metadata": {},
   "outputs": [],
   "source": [
    "lgbm_be.fit(X, np.log1p(y_be))\n",
    "lgbm_fe.fit(X, np.log1p(y_fe))\n",
    "save_results(np.expm1(lgbm_fe.predict(test_X)), np.expm1(lgbm_be.predict(test_X)), \"lgbm log\")"
   ]
  },
  {
   "cell_type": "markdown",
   "metadata": {},
   "source": [
    "### XGB"
   ]
  },
  {
   "cell_type": "code",
   "execution_count": 35,
   "metadata": {},
   "outputs": [],
   "source": [
    "from xgboost import XGBRegressor\n",
    "params = {\"booster\": \"gbtree\",\n",
    "         \"max_depth\": 3,\n",
    "         \"gamma\": 0.0001}\n",
    "xgb = XGBRegressor(**params, objective ='reg:squarederror')"
   ]
  },
  {
   "cell_type": "code",
   "execution_count": 12,
   "metadata": {
    "scrolled": true
   },
   "outputs": [
    {
     "name": "stderr",
     "output_type": "stream",
     "text": [
      "C:\\ProgramData\\Anaconda3\\lib\\site-packages\\xgboost\\core.py:587: FutureWarning: Series.base is deprecated and will be removed in a future version\n",
      "  if getattr(data, 'base', None) is not None and \\\n",
      "C:\\ProgramData\\Anaconda3\\lib\\site-packages\\xgboost\\core.py:587: FutureWarning: Series.base is deprecated and will be removed in a future version\n",
      "  if getattr(data, 'base', None) is not None and \\\n",
      "C:\\ProgramData\\Anaconda3\\lib\\site-packages\\xgboost\\core.py:587: FutureWarning: Series.base is deprecated and will be removed in a future version\n",
      "  if getattr(data, 'base', None) is not None and \\\n",
      "C:\\ProgramData\\Anaconda3\\lib\\site-packages\\xgboost\\core.py:587: FutureWarning: Series.base is deprecated and will be removed in a future version\n",
      "  if getattr(data, 'base', None) is not None and \\\n",
      "C:\\ProgramData\\Anaconda3\\lib\\site-packages\\xgboost\\core.py:587: FutureWarning: Series.base is deprecated and will be removed in a future version\n",
      "  if getattr(data, 'base', None) is not None and \\\n",
      "C:\\ProgramData\\Anaconda3\\lib\\site-packages\\xgboost\\core.py:587: FutureWarning: Series.base is deprecated and will be removed in a future version\n",
      "  if getattr(data, 'base', None) is not None and \\\n"
     ]
    },
    {
     "name": "stdout",
     "output_type": "stream",
     "text": [
      "0.03319167075573713\n"
     ]
    },
    {
     "name": "stderr",
     "output_type": "stream",
     "text": [
      "C:\\ProgramData\\Anaconda3\\lib\\site-packages\\xgboost\\core.py:587: FutureWarning: Series.base is deprecated and will be removed in a future version\n",
      "  if getattr(data, 'base', None) is not None and \\\n",
      "C:\\ProgramData\\Anaconda3\\lib\\site-packages\\xgboost\\core.py:587: FutureWarning: Series.base is deprecated and will be removed in a future version\n",
      "  if getattr(data, 'base', None) is not None and \\\n",
      "C:\\ProgramData\\Anaconda3\\lib\\site-packages\\xgboost\\core.py:587: FutureWarning: Series.base is deprecated and will be removed in a future version\n",
      "  if getattr(data, 'base', None) is not None and \\\n",
      "C:\\ProgramData\\Anaconda3\\lib\\site-packages\\xgboost\\core.py:587: FutureWarning: Series.base is deprecated and will be removed in a future version\n",
      "  if getattr(data, 'base', None) is not None and \\\n"
     ]
    },
    {
     "name": "stdout",
     "output_type": "stream",
     "text": [
      "0.03334823351915304\n"
     ]
    }
   ],
   "source": [
    "print(evaluate_CV(xgb, X, y_fe))\n",
    "print(evaluate_CV(xgb, X, np.log1p(y_fe), metric=rmsle_scorer_exp))"
   ]
  },
  {
   "cell_type": "markdown",
   "metadata": {},
   "source": [
    "### KNN"
   ]
  },
  {
   "cell_type": "code",
   "execution_count": 13,
   "metadata": {},
   "outputs": [
    {
     "name": "stdout",
     "output_type": "stream",
     "text": [
      "0.038384892506580004\n",
      "0.03825549979010142\n"
     ]
    }
   ],
   "source": [
    "from sklearn.neighbors import KNeighborsRegressor\n",
    "knn = KNeighborsRegressor(n_neighbors=7, metric=\"manhattan\")\n",
    "print(evaluate_CV(knn, X, y_fe))\n",
    "print(evaluate_CV(knn, X, np.log1p(y_fe), metric=rmsle_scorer_exp))"
   ]
  },
  {
   "cell_type": "code",
   "execution_count": null,
   "metadata": {},
   "outputs": [],
   "source": []
  },
  {
   "cell_type": "code",
   "execution_count": null,
   "metadata": {},
   "outputs": [],
   "source": []
  }
 ],
 "metadata": {
  "kernelspec": {
   "display_name": "Python 3",
   "language": "python",
   "name": "python3"
  },
  "language_info": {
   "codemirror_mode": {
    "name": "ipython",
    "version": 3
   },
   "file_extension": ".py",
   "mimetype": "text/x-python",
   "name": "python",
   "nbconvert_exporter": "python",
   "pygments_lexer": "ipython3",
   "version": "3.6.5"
  }
 },
 "nbformat": 4,
 "nbformat_minor": 4
}
